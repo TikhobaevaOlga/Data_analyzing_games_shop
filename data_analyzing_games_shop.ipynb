{
 "cells": [
  {
   "cell_type": "markdown",
   "metadata": {},
   "source": [
    "# Исследование продаж компьютерных игр"
   ]
  },
  {
   "cell_type": "markdown",
   "metadata": {},
   "source": [
    "**Описание проекта**\n",
    "\n",
    "Вы работаете в интернет-магазине «Стримчик», который продаёт по всему миру компьютерные игры. Из открытых источников доступны исторические данные о продажах игр, оценки пользователей и экспертов, жанры и платформы (например, Xbox или PlayStation). Вам нужно выявить определяющие успешность игры закономерности. Это позволит сделать ставку на потенциально популярный продукт и спланировать рекламные кампании.\n",
    "\n",
    "Перед вами данные до 2016 года. Представим, что сейчас декабрь 2016 г., и вы планируете кампанию на 2017-й. "
   ]
  },
  {
   "cell_type": "markdown",
   "metadata": {},
   "source": [
    "**План работ**\n",
    "\n",
    "1. Изучить датасет.\n",
    "2. Подготовить данные:\n",
    "    - изменить названия столбцов (привести к нижниму регистку); \n",
    "    - преобразовать данные в нужные типы; \n",
    "    - обработать пропуски;\n",
    "    - добавить новый столбец с суммарными продажами во всех регионах.\n",
    "3. Посмотреть сколько игр выпускалось в разные годы.\n",
    "4. Посмотреть на изменения продаж по платформам. Выбрать платформы с наибольшими суммарными продажами и построить распределение по годам.\n",
    "5. Выбрать актуальный период для дальнейшего анализа.\n",
    "6. Выбрать несколько потенциально прибыльных платформ.\n",
    "7. Построить график «ящик с усами» по глобальным продажам игр в разбивке по платформам.\n",
    "8. Посмотреть, как влияют на продажи внутри одной популярной платформы отзывы пользователей и критиков. Построить диаграмму рассеяния и посчитайте корреляцию между отзывами и продажами. \n",
    "9. Соотнести выводы по предыдущему пункту с продажами игр на других платформах.\n",
    "10. Посмотреть на общее распределение игр по жанрам.\n",
    "11. Определите для пользователя каждого региона (NA, EU, JP):\n",
    "    - Самые популярные платформы (топ-5). Описать различия в долях продаж.\n",
    "    - Самые популярные жанры (топ-5). Пояснить разницу.\n",
    "    - Влияет ли рейтинг ESRB на продажи в отдельном регионе?\n",
    "12. Проверьте гипотезы\n",
    "    - Средние пользовательские рейтинги платформ Xbox One и PC одинаковые;\n",
    "    - Средние пользовательские рейтинги жанров Action (англ. «действие», экшен-игры) и Sports (англ. «спортивные соревнования») разные.\n",
    "13. Сделать общие выводы."
   ]
  },
  {
   "cell_type": "markdown",
   "metadata": {},
   "source": [
    "## Изучение общей информации о данных"
   ]
  },
  {
   "cell_type": "code",
   "execution_count": 1,
   "metadata": {},
   "outputs": [],
   "source": [
    "import pandas as pd\n",
    "import matplotlib.pyplot as plt \n",
    "import numpy as np\n",
    "from scipy import stats as st"
   ]
  },
  {
   "cell_type": "code",
   "execution_count": 2,
   "metadata": {},
   "outputs": [],
   "source": [
    "try:\n",
    "    data = pd.read_csv('/datasets/games.csv')\n",
    "except:\n",
    "    data = pd.read_csv('https://code.s3.yandex.net/datasets/games.csv')"
   ]
  },
  {
   "cell_type": "code",
   "execution_count": 3,
   "metadata": {},
   "outputs": [
    {
     "name": "stdout",
     "output_type": "stream",
     "text": [
      "<class 'pandas.core.frame.DataFrame'>\n",
      "RangeIndex: 16715 entries, 0 to 16714\n",
      "Data columns (total 11 columns):\n",
      " #   Column           Non-Null Count  Dtype  \n",
      "---  ------           --------------  -----  \n",
      " 0   Name             16713 non-null  object \n",
      " 1   Platform         16715 non-null  object \n",
      " 2   Year_of_Release  16446 non-null  float64\n",
      " 3   Genre            16713 non-null  object \n",
      " 4   NA_sales         16715 non-null  float64\n",
      " 5   EU_sales         16715 non-null  float64\n",
      " 6   JP_sales         16715 non-null  float64\n",
      " 7   Other_sales      16715 non-null  float64\n",
      " 8   Critic_Score     8137 non-null   float64\n",
      " 9   User_Score       10014 non-null  object \n",
      " 10  Rating           9949 non-null   object \n",
      "dtypes: float64(6), object(5)\n",
      "memory usage: 1.4+ MB\n"
     ]
    }
   ],
   "source": [
    "data.info()"
   ]
  },
  {
   "cell_type": "code",
   "execution_count": 4,
   "metadata": {
    "scrolled": true
   },
   "outputs": [
    {
     "data": {
      "text/html": [
       "<div>\n",
       "<style scoped>\n",
       "    .dataframe tbody tr th:only-of-type {\n",
       "        vertical-align: middle;\n",
       "    }\n",
       "\n",
       "    .dataframe tbody tr th {\n",
       "        vertical-align: top;\n",
       "    }\n",
       "\n",
       "    .dataframe thead th {\n",
       "        text-align: right;\n",
       "    }\n",
       "</style>\n",
       "<table border=\"1\" class=\"dataframe\">\n",
       "  <thead>\n",
       "    <tr style=\"text-align: right;\">\n",
       "      <th></th>\n",
       "      <th>Name</th>\n",
       "      <th>Platform</th>\n",
       "      <th>Year_of_Release</th>\n",
       "      <th>Genre</th>\n",
       "      <th>NA_sales</th>\n",
       "      <th>EU_sales</th>\n",
       "      <th>JP_sales</th>\n",
       "      <th>Other_sales</th>\n",
       "      <th>Critic_Score</th>\n",
       "      <th>User_Score</th>\n",
       "      <th>Rating</th>\n",
       "    </tr>\n",
       "  </thead>\n",
       "  <tbody>\n",
       "    <tr>\n",
       "      <th>0</th>\n",
       "      <td>Wii Sports</td>\n",
       "      <td>Wii</td>\n",
       "      <td>2006.0</td>\n",
       "      <td>Sports</td>\n",
       "      <td>41.36</td>\n",
       "      <td>28.96</td>\n",
       "      <td>3.77</td>\n",
       "      <td>8.45</td>\n",
       "      <td>76.0</td>\n",
       "      <td>8</td>\n",
       "      <td>E</td>\n",
       "    </tr>\n",
       "    <tr>\n",
       "      <th>1</th>\n",
       "      <td>Super Mario Bros.</td>\n",
       "      <td>NES</td>\n",
       "      <td>1985.0</td>\n",
       "      <td>Platform</td>\n",
       "      <td>29.08</td>\n",
       "      <td>3.58</td>\n",
       "      <td>6.81</td>\n",
       "      <td>0.77</td>\n",
       "      <td>NaN</td>\n",
       "      <td>NaN</td>\n",
       "      <td>NaN</td>\n",
       "    </tr>\n",
       "    <tr>\n",
       "      <th>2</th>\n",
       "      <td>Mario Kart Wii</td>\n",
       "      <td>Wii</td>\n",
       "      <td>2008.0</td>\n",
       "      <td>Racing</td>\n",
       "      <td>15.68</td>\n",
       "      <td>12.76</td>\n",
       "      <td>3.79</td>\n",
       "      <td>3.29</td>\n",
       "      <td>82.0</td>\n",
       "      <td>8.3</td>\n",
       "      <td>E</td>\n",
       "    </tr>\n",
       "    <tr>\n",
       "      <th>3</th>\n",
       "      <td>Wii Sports Resort</td>\n",
       "      <td>Wii</td>\n",
       "      <td>2009.0</td>\n",
       "      <td>Sports</td>\n",
       "      <td>15.61</td>\n",
       "      <td>10.93</td>\n",
       "      <td>3.28</td>\n",
       "      <td>2.95</td>\n",
       "      <td>80.0</td>\n",
       "      <td>8</td>\n",
       "      <td>E</td>\n",
       "    </tr>\n",
       "    <tr>\n",
       "      <th>4</th>\n",
       "      <td>Pokemon Red/Pokemon Blue</td>\n",
       "      <td>GB</td>\n",
       "      <td>1996.0</td>\n",
       "      <td>Role-Playing</td>\n",
       "      <td>11.27</td>\n",
       "      <td>8.89</td>\n",
       "      <td>10.22</td>\n",
       "      <td>1.00</td>\n",
       "      <td>NaN</td>\n",
       "      <td>NaN</td>\n",
       "      <td>NaN</td>\n",
       "    </tr>\n",
       "    <tr>\n",
       "      <th>5</th>\n",
       "      <td>Tetris</td>\n",
       "      <td>GB</td>\n",
       "      <td>1989.0</td>\n",
       "      <td>Puzzle</td>\n",
       "      <td>23.20</td>\n",
       "      <td>2.26</td>\n",
       "      <td>4.22</td>\n",
       "      <td>0.58</td>\n",
       "      <td>NaN</td>\n",
       "      <td>NaN</td>\n",
       "      <td>NaN</td>\n",
       "    </tr>\n",
       "    <tr>\n",
       "      <th>6</th>\n",
       "      <td>New Super Mario Bros.</td>\n",
       "      <td>DS</td>\n",
       "      <td>2006.0</td>\n",
       "      <td>Platform</td>\n",
       "      <td>11.28</td>\n",
       "      <td>9.14</td>\n",
       "      <td>6.50</td>\n",
       "      <td>2.88</td>\n",
       "      <td>89.0</td>\n",
       "      <td>8.5</td>\n",
       "      <td>E</td>\n",
       "    </tr>\n",
       "    <tr>\n",
       "      <th>7</th>\n",
       "      <td>Wii Play</td>\n",
       "      <td>Wii</td>\n",
       "      <td>2006.0</td>\n",
       "      <td>Misc</td>\n",
       "      <td>13.96</td>\n",
       "      <td>9.18</td>\n",
       "      <td>2.93</td>\n",
       "      <td>2.84</td>\n",
       "      <td>58.0</td>\n",
       "      <td>6.6</td>\n",
       "      <td>E</td>\n",
       "    </tr>\n",
       "    <tr>\n",
       "      <th>8</th>\n",
       "      <td>New Super Mario Bros. Wii</td>\n",
       "      <td>Wii</td>\n",
       "      <td>2009.0</td>\n",
       "      <td>Platform</td>\n",
       "      <td>14.44</td>\n",
       "      <td>6.94</td>\n",
       "      <td>4.70</td>\n",
       "      <td>2.24</td>\n",
       "      <td>87.0</td>\n",
       "      <td>8.4</td>\n",
       "      <td>E</td>\n",
       "    </tr>\n",
       "    <tr>\n",
       "      <th>9</th>\n",
       "      <td>Duck Hunt</td>\n",
       "      <td>NES</td>\n",
       "      <td>1984.0</td>\n",
       "      <td>Shooter</td>\n",
       "      <td>26.93</td>\n",
       "      <td>0.63</td>\n",
       "      <td>0.28</td>\n",
       "      <td>0.47</td>\n",
       "      <td>NaN</td>\n",
       "      <td>NaN</td>\n",
       "      <td>NaN</td>\n",
       "    </tr>\n",
       "  </tbody>\n",
       "</table>\n",
       "</div>"
      ],
      "text/plain": [
       "                        Name Platform  Year_of_Release         Genre  \\\n",
       "0                 Wii Sports      Wii           2006.0        Sports   \n",
       "1          Super Mario Bros.      NES           1985.0      Platform   \n",
       "2             Mario Kart Wii      Wii           2008.0        Racing   \n",
       "3          Wii Sports Resort      Wii           2009.0        Sports   \n",
       "4   Pokemon Red/Pokemon Blue       GB           1996.0  Role-Playing   \n",
       "5                     Tetris       GB           1989.0        Puzzle   \n",
       "6      New Super Mario Bros.       DS           2006.0      Platform   \n",
       "7                   Wii Play      Wii           2006.0          Misc   \n",
       "8  New Super Mario Bros. Wii      Wii           2009.0      Platform   \n",
       "9                  Duck Hunt      NES           1984.0       Shooter   \n",
       "\n",
       "   NA_sales  EU_sales  JP_sales  Other_sales  Critic_Score User_Score Rating  \n",
       "0     41.36     28.96      3.77         8.45          76.0          8      E  \n",
       "1     29.08      3.58      6.81         0.77           NaN        NaN    NaN  \n",
       "2     15.68     12.76      3.79         3.29          82.0        8.3      E  \n",
       "3     15.61     10.93      3.28         2.95          80.0          8      E  \n",
       "4     11.27      8.89     10.22         1.00           NaN        NaN    NaN  \n",
       "5     23.20      2.26      4.22         0.58           NaN        NaN    NaN  \n",
       "6     11.28      9.14      6.50         2.88          89.0        8.5      E  \n",
       "7     13.96      9.18      2.93         2.84          58.0        6.6      E  \n",
       "8     14.44      6.94      4.70         2.24          87.0        8.4      E  \n",
       "9     26.93      0.63      0.28         0.47           NaN        NaN    NaN  "
      ]
     },
     "execution_count": 4,
     "metadata": {},
     "output_type": "execute_result"
    }
   ],
   "source": [
    "data.head(10)"
   ]
  },
  {
   "cell_type": "markdown",
   "metadata": {},
   "source": [
    "## Предобработка данных"
   ]
  },
  {
   "cell_type": "markdown",
   "metadata": {},
   "source": [
    "### Замена названий столбцов"
   ]
  },
  {
   "cell_type": "code",
   "execution_count": 5,
   "metadata": {},
   "outputs": [],
   "source": [
    "data.columns = data.columns.str.lower()  # приводим все названия столбцов к нижниму регистру"
   ]
  },
  {
   "cell_type": "code",
   "execution_count": 6,
   "metadata": {
    "scrolled": false
   },
   "outputs": [
    {
     "name": "stdout",
     "output_type": "stream",
     "text": [
      "<class 'pandas.core.frame.DataFrame'>\n",
      "RangeIndex: 16715 entries, 0 to 16714\n",
      "Data columns (total 11 columns):\n",
      " #   Column           Non-Null Count  Dtype  \n",
      "---  ------           --------------  -----  \n",
      " 0   name             16713 non-null  object \n",
      " 1   platform         16715 non-null  object \n",
      " 2   year_of_release  16446 non-null  float64\n",
      " 3   genre            16713 non-null  object \n",
      " 4   na_sales         16715 non-null  float64\n",
      " 5   eu_sales         16715 non-null  float64\n",
      " 6   jp_sales         16715 non-null  float64\n",
      " 7   other_sales      16715 non-null  float64\n",
      " 8   critic_score     8137 non-null   float64\n",
      " 9   user_score       10014 non-null  object \n",
      " 10  rating           9949 non-null   object \n",
      "dtypes: float64(6), object(5)\n",
      "memory usage: 1.4+ MB\n"
     ]
    }
   ],
   "source": [
    "data.info()  # проверяем, что все изменения выполнены верно"
   ]
  },
  {
   "cell_type": "markdown",
   "metadata": {},
   "source": [
    " ### Работа с пропусками"
   ]
  },
  {
   "cell_type": "code",
   "execution_count": 7,
   "metadata": {},
   "outputs": [
    {
     "data": {
      "text/plain": [
       "name                  2\n",
       "platform              0\n",
       "year_of_release     269\n",
       "genre                 2\n",
       "na_sales              0\n",
       "eu_sales              0\n",
       "jp_sales              0\n",
       "other_sales           0\n",
       "critic_score       8578\n",
       "user_score         6701\n",
       "rating             6766\n",
       "dtype: int64"
      ]
     },
     "execution_count": 7,
     "metadata": {},
     "output_type": "execute_result"
    }
   ],
   "source": [
    "data.isna().sum() # выведем количество пропусков в каждом столбце"
   ]
  },
  {
   "cell_type": "code",
   "execution_count": 8,
   "metadata": {},
   "outputs": [],
   "source": [
    "def pass_value_barh(df):\n",
    "    try:\n",
    "        (\n",
    "            (df.isna().mean()*100)\n",
    "            .to_frame()\n",
    "            .rename(columns = {0:'space'})\n",
    "            .query('space > 0')\n",
    "            .sort_values(by = 'space', ascending = True)\n",
    "            .plot(kind= 'barh', figsize=(15,3), legend = False, fontsize = 12)\n",
    "            .set_title('Доля пропусков' + \"\\n\", fontsize = 16, color = 'SteelBlue')    \n",
    "        );    \n",
    "    except:\n",
    "        print('пропусков не осталось :) ')"
   ]
  },
  {
   "cell_type": "code",
   "execution_count": 9,
   "metadata": {
    "scrolled": true
   },
   "outputs": [
    {
     "data": {
      "image/png": "[encoded data removed]",
      "text/plain": [
       "<Figure size 1080x216 with 1 Axes>"
      ]
     },
     "metadata": {
      "needs_background": "light"
     },
     "output_type": "display_data"
    }
   ],
   "source": [
    "pass_value_barh(data) # визуализация доли пропусков в каждом столбце"
   ]
  },
  {
   "cell_type": "code",
   "execution_count": 10,
   "metadata": {},
   "outputs": [],
   "source": [
    "data['user_score'] = data['user_score'].replace('tbd', np.nan)"
   ]
  },
  {
   "cell_type": "markdown",
   "metadata": {},
   "source": [
    "Аббревиатура *tbd* рассшифровывается как *To Be Determined*, то есть в данном случае оценка для этих игр не была указана. Заменим это значение на NaN.  "
   ]
  },
  {
   "cell_type": "code",
   "execution_count": 11,
   "metadata": {},
   "outputs": [
    {
     "data": {
      "text/html": [
       "<div>\n",
       "<style scoped>\n",
       "    .dataframe tbody tr th:only-of-type {\n",
       "        vertical-align: middle;\n",
       "    }\n",
       "\n",
       "    .dataframe tbody tr th {\n",
       "        vertical-align: top;\n",
       "    }\n",
       "\n",
       "    .dataframe thead th {\n",
       "        text-align: right;\n",
       "    }\n",
       "</style>\n",
       "<table border=\"1\" class=\"dataframe\">\n",
       "  <thead>\n",
       "    <tr style=\"text-align: right;\">\n",
       "      <th></th>\n",
       "      <th>name</th>\n",
       "      <th>platform</th>\n",
       "      <th>year_of_release</th>\n",
       "      <th>genre</th>\n",
       "      <th>na_sales</th>\n",
       "      <th>eu_sales</th>\n",
       "      <th>jp_sales</th>\n",
       "      <th>other_sales</th>\n",
       "      <th>critic_score</th>\n",
       "      <th>user_score</th>\n",
       "      <th>rating</th>\n",
       "    </tr>\n",
       "  </thead>\n",
       "  <tbody>\n",
       "    <tr>\n",
       "      <th>659</th>\n",
       "      <td>NaN</td>\n",
       "      <td>GEN</td>\n",
       "      <td>1993.0</td>\n",
       "      <td>NaN</td>\n",
       "      <td>1.78</td>\n",
       "      <td>0.53</td>\n",
       "      <td>0.00</td>\n",
       "      <td>0.08</td>\n",
       "      <td>NaN</td>\n",
       "      <td>NaN</td>\n",
       "      <td>NaN</td>\n",
       "    </tr>\n",
       "    <tr>\n",
       "      <th>14244</th>\n",
       "      <td>NaN</td>\n",
       "      <td>GEN</td>\n",
       "      <td>1993.0</td>\n",
       "      <td>NaN</td>\n",
       "      <td>0.00</td>\n",
       "      <td>0.00</td>\n",
       "      <td>0.03</td>\n",
       "      <td>0.00</td>\n",
       "      <td>NaN</td>\n",
       "      <td>NaN</td>\n",
       "      <td>NaN</td>\n",
       "    </tr>\n",
       "  </tbody>\n",
       "</table>\n",
       "</div>"
      ],
      "text/plain": [
       "      name platform  year_of_release genre  na_sales  eu_sales  jp_sales  \\\n",
       "659    NaN      GEN           1993.0   NaN      1.78      0.53      0.00   \n",
       "14244  NaN      GEN           1993.0   NaN      0.00      0.00      0.03   \n",
       "\n",
       "       other_sales  critic_score user_score rating  \n",
       "659           0.08           NaN        NaN    NaN  \n",
       "14244         0.00           NaN        NaN    NaN  "
      ]
     },
     "execution_count": 11,
     "metadata": {},
     "output_type": "execute_result"
    }
   ],
   "source": [
    "data.loc[data['genre'].isna()]"
   ]
  },
  {
   "cell_type": "code",
   "execution_count": 12,
   "metadata": {},
   "outputs": [],
   "source": [
    "data = data.dropna(subset=['name']).reset_index(drop=True)"
   ]
  },
  {
   "cell_type": "code",
   "execution_count": 13,
   "metadata": {},
   "outputs": [],
   "source": [
    "data['rating'] = data['rating'].fillna('unknown')"
   ]
  },
  {
   "cell_type": "markdown",
   "metadata": {},
   "source": [
    "**Пропуски присутствуют в следующих столбцах:**\n",
    "* `'name'`, `'genre'`. Название и жанр игры отсутствуют всего в 2 строках, в которых также нет значений многих других параметров, поэтому удалим эти строки. \n",
    "* `'year_of_release'`. В данном столбце содержится информация о годе выпуска игры. Она может отсутствовать по причине того, что год просто не указали. Поскольку такое временное значение не может быть заполнено синтетическими данными с достаточной точностью, оставим пропуски в этом столбце. \n",
    "* `'rating'`. Данный столбец содержит рейтинг от организации ESRB, то есть возрастную категорию. Значения также могут отсутствовать по причине того, что возрастная категория не была указана или определена. Заполним пропуски в этом столбце значением *unknown*, чтобы впоследствии при анализе не потерять значения продаж из этих строк.\n",
    "* `'critic_score'`, `'user_score'`. В данном столбце содержится информация об оценках пользователей и критиков. Причиной появления пропусков в этих столбцах могло стать отсутствие этих данных. Заполнение усредненным значением в данном случае было бы ошибочным, поэтому оставим пропуски в этом столбце."
   ]
  },
  {
   "cell_type": "markdown",
   "metadata": {},
   "source": [
    "### Преобразование данные в нужные типы"
   ]
  },
  {
   "cell_type": "code",
   "execution_count": 14,
   "metadata": {},
   "outputs": [],
   "source": [
    "data['year_of_release'] = data['year_of_release'].round().astype('Int64')\n",
    "data['user_score'] = pd.to_numeric(data['user_score'])"
   ]
  },
  {
   "cell_type": "code",
   "execution_count": 15,
   "metadata": {},
   "outputs": [
    {
     "name": "stdout",
     "output_type": "stream",
     "text": [
      "<class 'pandas.core.frame.DataFrame'>\n",
      "RangeIndex: 16713 entries, 0 to 16712\n",
      "Data columns (total 11 columns):\n",
      " #   Column           Non-Null Count  Dtype  \n",
      "---  ------           --------------  -----  \n",
      " 0   name             16713 non-null  object \n",
      " 1   platform         16713 non-null  object \n",
      " 2   year_of_release  16444 non-null  Int64  \n",
      " 3   genre            16713 non-null  object \n",
      " 4   na_sales         16713 non-null  float64\n",
      " 5   eu_sales         16713 non-null  float64\n",
      " 6   jp_sales         16713 non-null  float64\n",
      " 7   other_sales      16713 non-null  float64\n",
      " 8   critic_score     8137 non-null   float64\n",
      " 9   user_score       7590 non-null   float64\n",
      " 10  rating           16713 non-null  object \n",
      "dtypes: Int64(1), float64(6), object(4)\n",
      "memory usage: 1.4+ MB\n"
     ]
    }
   ],
   "source": [
    "data.info()  # проверим, что типы данных заменены корректно"
   ]
  },
  {
   "cell_type": "markdown",
   "metadata": {},
   "source": [
    "**Тип данных был заменен в следующих столбцах:**\n",
    "* `'year_of_release'`. Год - это целочисленное значение, поэтому заменим тип данных с float на int.\n",
    "* `'user_score'`. Оценка пользователей - это числовое значение, поэтому заменим тип данных с object на float."
   ]
  },
  {
   "cell_type": "markdown",
   "metadata": {},
   "source": [
    "### Добавление столбца с суммарные продажи во всех регионах"
   ]
  },
  {
   "cell_type": "code",
   "execution_count": 16,
   "metadata": {},
   "outputs": [],
   "source": [
    "data['total_sales'] = data[['na_sales', 'eu_sales', 'jp_sales', 'other_sales']].sum(axis=1)"
   ]
  },
  {
   "cell_type": "code",
   "execution_count": 17,
   "metadata": {},
   "outputs": [
    {
     "data": {
      "text/html": [
       "<div>\n",
       "<style scoped>\n",
       "    .dataframe tbody tr th:only-of-type {\n",
       "        vertical-align: middle;\n",
       "    }\n",
       "\n",
       "    .dataframe tbody tr th {\n",
       "        vertical-align: top;\n",
       "    }\n",
       "\n",
       "    .dataframe thead th {\n",
       "        text-align: right;\n",
       "    }\n",
       "</style>\n",
       "<table border=\"1\" class=\"dataframe\">\n",
       "  <thead>\n",
       "    <tr style=\"text-align: right;\">\n",
       "      <th></th>\n",
       "      <th>name</th>\n",
       "      <th>platform</th>\n",
       "      <th>year_of_release</th>\n",
       "      <th>genre</th>\n",
       "      <th>na_sales</th>\n",
       "      <th>eu_sales</th>\n",
       "      <th>jp_sales</th>\n",
       "      <th>other_sales</th>\n",
       "      <th>critic_score</th>\n",
       "      <th>user_score</th>\n",
       "      <th>rating</th>\n",
       "      <th>total_sales</th>\n",
       "    </tr>\n",
       "  </thead>\n",
       "  <tbody>\n",
       "    <tr>\n",
       "      <th>0</th>\n",
       "      <td>Wii Sports</td>\n",
       "      <td>Wii</td>\n",
       "      <td>2006</td>\n",
       "      <td>Sports</td>\n",
       "      <td>41.36</td>\n",
       "      <td>28.96</td>\n",
       "      <td>3.77</td>\n",
       "      <td>8.45</td>\n",
       "      <td>76.0</td>\n",
       "      <td>8.0</td>\n",
       "      <td>E</td>\n",
       "      <td>82.54</td>\n",
       "    </tr>\n",
       "    <tr>\n",
       "      <th>1</th>\n",
       "      <td>Super Mario Bros.</td>\n",
       "      <td>NES</td>\n",
       "      <td>1985</td>\n",
       "      <td>Platform</td>\n",
       "      <td>29.08</td>\n",
       "      <td>3.58</td>\n",
       "      <td>6.81</td>\n",
       "      <td>0.77</td>\n",
       "      <td>NaN</td>\n",
       "      <td>NaN</td>\n",
       "      <td>unknown</td>\n",
       "      <td>40.24</td>\n",
       "    </tr>\n",
       "    <tr>\n",
       "      <th>2</th>\n",
       "      <td>Mario Kart Wii</td>\n",
       "      <td>Wii</td>\n",
       "      <td>2008</td>\n",
       "      <td>Racing</td>\n",
       "      <td>15.68</td>\n",
       "      <td>12.76</td>\n",
       "      <td>3.79</td>\n",
       "      <td>3.29</td>\n",
       "      <td>82.0</td>\n",
       "      <td>8.3</td>\n",
       "      <td>E</td>\n",
       "      <td>35.52</td>\n",
       "    </tr>\n",
       "    <tr>\n",
       "      <th>3</th>\n",
       "      <td>Wii Sports Resort</td>\n",
       "      <td>Wii</td>\n",
       "      <td>2009</td>\n",
       "      <td>Sports</td>\n",
       "      <td>15.61</td>\n",
       "      <td>10.93</td>\n",
       "      <td>3.28</td>\n",
       "      <td>2.95</td>\n",
       "      <td>80.0</td>\n",
       "      <td>8.0</td>\n",
       "      <td>E</td>\n",
       "      <td>32.77</td>\n",
       "    </tr>\n",
       "    <tr>\n",
       "      <th>4</th>\n",
       "      <td>Pokemon Red/Pokemon Blue</td>\n",
       "      <td>GB</td>\n",
       "      <td>1996</td>\n",
       "      <td>Role-Playing</td>\n",
       "      <td>11.27</td>\n",
       "      <td>8.89</td>\n",
       "      <td>10.22</td>\n",
       "      <td>1.00</td>\n",
       "      <td>NaN</td>\n",
       "      <td>NaN</td>\n",
       "      <td>unknown</td>\n",
       "      <td>31.38</td>\n",
       "    </tr>\n",
       "  </tbody>\n",
       "</table>\n",
       "</div>"
      ],
      "text/plain": [
       "                       name platform  year_of_release         genre  na_sales  \\\n",
       "0                Wii Sports      Wii             2006        Sports     41.36   \n",
       "1         Super Mario Bros.      NES             1985      Platform     29.08   \n",
       "2            Mario Kart Wii      Wii             2008        Racing     15.68   \n",
       "3         Wii Sports Resort      Wii             2009        Sports     15.61   \n",
       "4  Pokemon Red/Pokemon Blue       GB             1996  Role-Playing     11.27   \n",
       "\n",
       "   eu_sales  jp_sales  other_sales  critic_score  user_score   rating  \\\n",
       "0     28.96      3.77         8.45          76.0         8.0        E   \n",
       "1      3.58      6.81         0.77           NaN         NaN  unknown   \n",
       "2     12.76      3.79         3.29          82.0         8.3        E   \n",
       "3     10.93      3.28         2.95          80.0         8.0        E   \n",
       "4      8.89     10.22         1.00           NaN         NaN  unknown   \n",
       "\n",
       "   total_sales  \n",
       "0        82.54  \n",
       "1        40.24  \n",
       "2        35.52  \n",
       "3        32.77  \n",
       "4        31.38  "
      ]
     },
     "execution_count": 17,
     "metadata": {},
     "output_type": "execute_result"
    }
   ],
   "source": [
    "data.head()  # проверяем, что столбец был добавлен"
   ]
  },
  {
   "cell_type": "markdown",
   "metadata": {},
   "source": [
    "## Исследовательский анализ данных"
   ]
  },
  {
   "cell_type": "markdown",
   "metadata": {},
   "source": [
    "### Количество игр, выпускаемых в разные годы"
   ]
  },
  {
   "cell_type": "code",
   "execution_count": 18,
   "metadata": {},
   "outputs": [
    {
     "data": {
      "image/png": "[encoded data removed]",
      "text/plain": [
       "<Figure size 576x360 with 1 Axes>"
      ]
     },
     "metadata": {
      "needs_background": "light"
     },
     "output_type": "display_data"
    }
   ],
   "source": [
    "data.hist(column='year_of_release', bins=37, figsize=(8, 5))\n",
    "plt.title(\"Распределение количества выпущенных игр по годам\")\n",
    "plt.xlabel(\"Год\")\n",
    "plt.ylabel(\"Кол-во игр\")\n",
    "plt.show()"
   ]
  },
  {
   "cell_type": "code",
   "execution_count": 19,
   "metadata": {},
   "outputs": [
    {
     "data": {
      "text/plain": [
       "2806"
      ]
     },
     "execution_count": 19,
     "metadata": {},
     "output_type": "execute_result"
    }
   ],
   "source": [
    "len(data.query('year_of_release < 2002'))"
   ]
  },
  {
   "cell_type": "markdown",
   "metadata": {},
   "source": [
    "На графике видно, что до 1994 года выпускалось менее 100 игр в год, а до 2002 менее 500. Поскольку нам нужно выявить закономерности на рынке компьютерных игр актуальные для 2017 года, анализировать данные слишком большой давности будет нецелесообразно.   "
   ]
  },
  {
   "cell_type": "markdown",
   "metadata": {},
   "source": [
    "### Продажи по платформам. Выбор актуального периода."
   ]
  },
  {
   "cell_type": "code",
   "execution_count": 20,
   "metadata": {},
   "outputs": [
    {
     "data": {
      "text/html": [
       "<div>\n",
       "<style scoped>\n",
       "    .dataframe tbody tr th:only-of-type {\n",
       "        vertical-align: middle;\n",
       "    }\n",
       "\n",
       "    .dataframe tbody tr th {\n",
       "        vertical-align: top;\n",
       "    }\n",
       "\n",
       "    .dataframe thead th {\n",
       "        text-align: right;\n",
       "    }\n",
       "</style>\n",
       "<table border=\"1\" class=\"dataframe\">\n",
       "  <thead>\n",
       "    <tr style=\"text-align: right;\">\n",
       "      <th></th>\n",
       "      <th>total_sales</th>\n",
       "    </tr>\n",
       "    <tr>\n",
       "      <th>platform</th>\n",
       "      <th></th>\n",
       "    </tr>\n",
       "  </thead>\n",
       "  <tbody>\n",
       "    <tr>\n",
       "      <th>PS2</th>\n",
       "      <td>1255.77</td>\n",
       "    </tr>\n",
       "    <tr>\n",
       "      <th>X360</th>\n",
       "      <td>971.42</td>\n",
       "    </tr>\n",
       "    <tr>\n",
       "      <th>PS3</th>\n",
       "      <td>939.65</td>\n",
       "    </tr>\n",
       "    <tr>\n",
       "      <th>Wii</th>\n",
       "      <td>907.51</td>\n",
       "    </tr>\n",
       "    <tr>\n",
       "      <th>DS</th>\n",
       "      <td>806.12</td>\n",
       "    </tr>\n",
       "  </tbody>\n",
       "</table>\n",
       "</div>"
      ],
      "text/plain": [
       "          total_sales\n",
       "platform             \n",
       "PS2           1255.77\n",
       "X360           971.42\n",
       "PS3            939.65\n",
       "Wii            907.51\n",
       "DS             806.12"
      ]
     },
     "execution_count": 20,
     "metadata": {},
     "output_type": "execute_result"
    }
   ],
   "source": [
    "# посмотрим на топ-5 платформ по общей сумме продаж\n",
    "data.groupby('platform').agg({'total_sales':'sum'}).sort_values('total_sales', ascending=False).head()"
   ]
  },
  {
   "cell_type": "code",
   "execution_count": 21,
   "metadata": {
    "scrolled": false
   },
   "outputs": [
    {
     "data": {
      "image/png": "[encoded data removed]",
      "text/plain": [
       "<Figure size 1080x432 with 1 Axes>"
      ]
     },
     "metadata": {
      "needs_background": "light"
     },
     "output_type": "display_data"
    }
   ],
   "source": [
    "data.query('platform == \"PS2\"').groupby('year_of_release')['total_sales'].sum().plot(x='year_of_release', y='total_sales', figsize=(15,6), grid=True)\n",
    "data.query('platform == \"X360\"').groupby('year_of_release')['total_sales'].sum().plot(x='year_of_release', y='total_sales', figsize=(15,6), grid=True)\n",
    "data.query('platform == \"PS3\"').groupby('year_of_release')['total_sales'].sum().plot(x='year_of_release', y='total_sales', figsize=(15,6), grid=True)\n",
    "data.query('platform == \"Wii\"').groupby('year_of_release')['total_sales'].sum().plot(x='year_of_release', y='total_sales', figsize=(15,6), grid=True)\n",
    "data.query('platform == \"DS\"').groupby('year_of_release')['total_sales'].sum().plot(x='year_of_release', y='total_sales', figsize=(15,6), grid=True)\n",
    "plt.legend(['PS2', 'X360', 'PS3', 'Wii', 'DS'])\n",
    "plt.title(\"Распределение продаж на топовых платформах по годам\")\n",
    "plt.xlabel(\"Год\")\n",
    "plt.ylabel(\"Продажи (млн. копий)\")\n",
    "plt.show()  # график общей суммы продаж на топ-5 платформ по годам"
   ]
  },
  {
   "cell_type": "markdown",
   "metadata": {},
   "source": [
    "На графике видно, что характерный период от взлета продаж до начала их падения для игровых платформ составляет примерно 5 лет. Поэтому выберем актуальный период для дальнейшего анализа с 2012 года включительно. Таким образом мы захватим как новые платформы, так и старые, которые все еще остаются актуальными.   "
   ]
  },
  {
   "cell_type": "code",
   "execution_count": 22,
   "metadata": {},
   "outputs": [],
   "source": [
    "data_actual = data.query('year_of_release >= 2012')"
   ]
  },
  {
   "cell_type": "markdown",
   "metadata": {},
   "source": [
    "### Выбор нескольких потенциально прибыльных платформ."
   ]
  },
  {
   "cell_type": "code",
   "execution_count": 23,
   "metadata": {},
   "outputs": [
    {
     "data": {
      "text/html": [
       "<div>\n",
       "<style scoped>\n",
       "    .dataframe tbody tr th:only-of-type {\n",
       "        vertical-align: middle;\n",
       "    }\n",
       "\n",
       "    .dataframe tbody tr th {\n",
       "        vertical-align: top;\n",
       "    }\n",
       "\n",
       "    .dataframe thead th {\n",
       "        text-align: right;\n",
       "    }\n",
       "</style>\n",
       "<table border=\"1\" class=\"dataframe\">\n",
       "  <thead>\n",
       "    <tr style=\"text-align: right;\">\n",
       "      <th></th>\n",
       "      <th>total_sales</th>\n",
       "    </tr>\n",
       "    <tr>\n",
       "      <th>platform</th>\n",
       "      <th></th>\n",
       "    </tr>\n",
       "  </thead>\n",
       "  <tbody>\n",
       "    <tr>\n",
       "      <th>PS4</th>\n",
       "      <td>314.14</td>\n",
       "    </tr>\n",
       "    <tr>\n",
       "      <th>PS3</th>\n",
       "      <td>288.79</td>\n",
       "    </tr>\n",
       "    <tr>\n",
       "      <th>X360</th>\n",
       "      <td>236.54</td>\n",
       "    </tr>\n",
       "    <tr>\n",
       "      <th>3DS</th>\n",
       "      <td>194.61</td>\n",
       "    </tr>\n",
       "    <tr>\n",
       "      <th>XOne</th>\n",
       "      <td>159.32</td>\n",
       "    </tr>\n",
       "    <tr>\n",
       "      <th>WiiU</th>\n",
       "      <td>82.19</td>\n",
       "    </tr>\n",
       "    <tr>\n",
       "      <th>PC</th>\n",
       "      <td>62.65</td>\n",
       "    </tr>\n",
       "    <tr>\n",
       "      <th>PSV</th>\n",
       "      <td>49.18</td>\n",
       "    </tr>\n",
       "    <tr>\n",
       "      <th>Wii</th>\n",
       "      <td>35.37</td>\n",
       "    </tr>\n",
       "    <tr>\n",
       "      <th>DS</th>\n",
       "      <td>12.55</td>\n",
       "    </tr>\n",
       "    <tr>\n",
       "      <th>PSP</th>\n",
       "      <td>11.19</td>\n",
       "    </tr>\n",
       "  </tbody>\n",
       "</table>\n",
       "</div>"
      ],
      "text/plain": [
       "          total_sales\n",
       "platform             \n",
       "PS4            314.14\n",
       "PS3            288.79\n",
       "X360           236.54\n",
       "3DS            194.61\n",
       "XOne           159.32\n",
       "WiiU            82.19\n",
       "PC              62.65\n",
       "PSV             49.18\n",
       "Wii             35.37\n",
       "DS              12.55\n",
       "PSP             11.19"
      ]
     },
     "execution_count": 23,
     "metadata": {},
     "output_type": "execute_result"
    }
   ],
   "source": [
    "# суммарные продажи платформ за весь актуальный период\n",
    "data_actual.groupby('platform').agg({'total_sales':'sum'}).sort_values('total_sales', ascending=False)"
   ]
  },
  {
   "cell_type": "code",
   "execution_count": 24,
   "metadata": {},
   "outputs": [
    {
     "data": {
      "text/plain": [
       "platform\n",
       "PS4     69.25\n",
       "XOne    26.15\n",
       "3DS     15.14\n",
       "PC       5.25\n",
       "WiiU     4.60\n",
       "PSV      4.25\n",
       "PS3      3.60\n",
       "X360     1.52\n",
       "Wii      0.18\n",
       "DS        NaN\n",
       "PSP       NaN\n",
       "Name: 2016, dtype: float64"
      ]
     },
     "execution_count": 24,
     "metadata": {},
     "output_type": "execute_result"
    }
   ],
   "source": [
    "# суммарные продажи платформ за 2016 год\n",
    "(data_actual.groupby(['platform', 'year_of_release'])['total_sales']\n",
    "            .sum()\n",
    "            .unstack('platform')\n",
    "            .loc[2016]\n",
    "            .sort_values(ascending=False)\n",
    ")"
   ]
  },
  {
   "cell_type": "code",
   "execution_count": 25,
   "metadata": {},
   "outputs": [
    {
     "data": {
      "image/png": "[encoded data removed]",
      "text/plain": [
       "<Figure size 864x720 with 1 Axes>"
      ]
     },
     "metadata": {
      "needs_background": "light"
     },
     "output_type": "display_data"
    }
   ],
   "source": [
    "# график общей суммы продаж за каждый год актуального периода по каждой платформе\n",
    "(data_actual.groupby(['platform', 'year_of_release'])['total_sales']\n",
    "            .sum()\n",
    "            .unstack('platform')\n",
    "            .plot(figsize=(12,10), grid=True)\n",
    ")\n",
    "plt.title(\"Распределение продаж на разных платформах по годам актуального периода\")\n",
    "plt.xlabel(\"Год\")\n",
    "plt.ylabel(\"Продажи (млн. копий)\")\n",
    "plt.show()"
   ]
  },
  {
   "cell_type": "markdown",
   "metadata": {},
   "source": [
    "Из таблицы видно, что по общей сумме продаж **за весь актуальный период выделяется следующий топ-5 платформ: PS4, PS3, X360, 3DS и XOne**. Однако из данных 2016 года становится очевидно, что PS3 и X360 попали в основной топ из-за своих высоких продаж в предыдущие годы. На момент 2016 эти платформы уже потеряли свою актуальность, а им на смену пришло новое поколение PS4 и XOne.\n",
    "\n",
    "На графике видно, что ни одна платформа не показывает рост продаж с 2015 по 2016 годы, что может быть признаком того, что в ближайшее время появятся новые платформы. \n",
    "* На момент 2016 на рынке по продажам преобладают PS4 и XOne. Кроме того, видно, что их продажи росли в предыдущие годы. \n",
    "* Также заметно высокие показатели дает платформа 3DS. Ее продажи идут на спад последние годы, однако не так сильно, как у прошлых лидеров рынка: PS3 и X360. \n",
    "* Еще одной платформой, на которую стоит обратить внимание, является PC. Персональные компьютеры - это платформа, которая показывает не самые высокие продажи, но и не исчезает полностью.\n",
    "\n",
    "Таким образом можно выделить следующие потенциально прибыльные платформы на 2017 год: **PS4, XOne, 3DS и PC**."
   ]
  },
  {
   "cell_type": "markdown",
   "metadata": {},
   "source": [
    "### Построение графика «ящик с усами» по глобальным продажам игр в разбивке по платформам."
   ]
  },
  {
   "cell_type": "code",
   "execution_count": 26,
   "metadata": {},
   "outputs": [
    {
     "data": {
      "image/png": "[encoded data removed]",
      "text/plain": [
       "<Figure size 720x432 with 1 Axes>"
      ]
     },
     "metadata": {
      "needs_background": "light"
     },
     "output_type": "display_data"
    }
   ],
   "source": [
    "data_actual.boxplot(by='platform', column='total_sales', figsize=(10,6))\n",
    "plt.show()"
   ]
  },
  {
   "cell_type": "code",
   "execution_count": 27,
   "metadata": {},
   "outputs": [
    {
     "data": {
      "image/png": "[encoded data removed]",
      "text/plain": [
       "<Figure size 1080x720 with 1 Axes>"
      ]
     },
     "metadata": {
      "needs_background": "light"
     },
     "output_type": "display_data"
    }
   ],
   "source": [
    "data_actual.boxplot(by='platform', column='total_sales', figsize=(15,10))\n",
    "plt.ylim(0, 2)\n",
    "plt.show()"
   ]
  },
  {
   "cell_type": "markdown",
   "metadata": {},
   "source": [
    "**Из диаграмм размаха можно сделать следующие выводы:**\n",
    "* Больше всего верхних выбросов, то есть хитовых по продажам игр, у 2 предыдущих лидеров рынка PS3 и X360, что вполне ожидаемо.\n",
    "* Достаточно большое количество хитов имеют платформы PS4 и 3DS. Также неплохие показатели дает XOne.\n",
    "* Самая высокое медианное значение по глобальным продажам у X360.\n",
    "* Достаточно высокие медианные значения у XOne и WiiU. Однако WiiU - это платформа, у которой к 2016 году уже достаточно сильно упали продажи.\n",
    "* Медианные значения продаж у PS3 и PS4 почти одинаковые.\n",
    "* Новые и старые лидеры рынка (PS3, X360 и PS4, XOne) имеют сильный разброс вокруг медианы.\n",
    "* У всех платформ наблюдается тенденция сдвига медианы к 1-му квартилю, что говорит о следующем: да, платформы имеют определенные хиты продаж, но в массе количество проданных копий игр находится в невысоком числовом диапазоне."
   ]
  },
  {
   "cell_type": "markdown",
   "metadata": {},
   "source": [
    "### Изучение влияния на продажи внутри одной популярной платформы отзывов пользователей и критиков."
   ]
  },
  {
   "cell_type": "markdown",
   "metadata": {},
   "source": [
    "Для анализа возьмем **платформу PS4**, которая является лидером рынка как на 2016 год, так и за весь актуальный период."
   ]
  },
  {
   "cell_type": "code",
   "execution_count": 28,
   "metadata": {},
   "outputs": [],
   "source": [
    "data_ps4 = data_actual.query('platform == \"PS4\"')"
   ]
  },
  {
   "cell_type": "code",
   "execution_count": 29,
   "metadata": {},
   "outputs": [
    {
     "data": {
      "image/png": "[encoded data removed]",
      "text/plain": [
       "<Figure size 576x432 with 1 Axes>"
      ]
     },
     "metadata": {
      "needs_background": "light"
     },
     "output_type": "display_data"
    }
   ],
   "source": [
    "# диаграмма рассеяния, связь продаж и оценок пользователей\n",
    "data_ps4.plot(x='user_score', y='total_sales', kind='scatter', figsize=(8,6)) \n",
    "plt.show()"
   ]
  },
  {
   "cell_type": "code",
   "execution_count": 30,
   "metadata": {
    "scrolled": true
   },
   "outputs": [
    {
     "data": {
      "text/plain": [
       "-0.03195711020455645"
      ]
     },
     "execution_count": 30,
     "metadata": {},
     "output_type": "execute_result"
    }
   ],
   "source": [
    "data_ps4['total_sales'].corr(data_ps4['user_score'])"
   ]
  },
  {
   "cell_type": "markdown",
   "metadata": {},
   "source": [
    "На диаграмме рассеяния нет явно читающейся зависимости между оценками пользователей и продажами.\n",
    "\n",
    "Коэффициент корреляции Пирсона равен -0.03. Значение очень близкое к 0. Оно говорит об очень слабой отрицательной корреляции. Такая корреляция в расчет не берется.\n",
    "\n",
    "Скорее всего, мнение других пользователей не так важно для покупателей игр, и большинство предпочитает составить свое собственное мнение."
   ]
  },
  {
   "cell_type": "code",
   "execution_count": 31,
   "metadata": {},
   "outputs": [
    {
     "data": {
      "image/png": "[encoded data removed]",
      "text/plain": [
       "<Figure size 576x432 with 1 Axes>"
      ]
     },
     "metadata": {
      "needs_background": "light"
     },
     "output_type": "display_data"
    }
   ],
   "source": [
    "# диаграмма рассеяния, связь продаж и оценок критиков\n",
    "data_ps4.plot(x='critic_score', y='total_sales', kind='scatter', figsize=(8,6)) \n",
    "plt.show()"
   ]
  },
  {
   "cell_type": "code",
   "execution_count": 32,
   "metadata": {},
   "outputs": [
    {
     "data": {
      "text/plain": [
       "0.406567902061781"
      ]
     },
     "execution_count": 32,
     "metadata": {},
     "output_type": "execute_result"
    }
   ],
   "source": [
    "data_ps4['total_sales'].corr(data_ps4['critic_score'])"
   ]
  },
  {
   "cell_type": "markdown",
   "metadata": {},
   "source": [
    "На диаграмме рассеяния присутствует увеличение объема продаж при росте оценки критиков для части данных.\n",
    "\n",
    "Коэффициент корреляции Пирсона равен 0.41. Такое значение говорит о слабой положительной корреляции. Однако это значение не так близко к 0, как в случае с отзывами пользователей. Нужно посмотреть на значение корреляции продаж и отзывов для всех игр, независимо от платформы."
   ]
  },
  {
   "cell_type": "markdown",
   "metadata": {},
   "source": [
    "### Соотнесение выводов по предыдущему пункту с продажами игр на других платформах."
   ]
  },
  {
   "cell_type": "markdown",
   "metadata": {},
   "source": [
    "**Анализ Xbox One**"
   ]
  },
  {
   "cell_type": "code",
   "execution_count": 33,
   "metadata": {},
   "outputs": [],
   "source": [
    "data_xone = data_actual.query('platform == \"XOne\"')"
   ]
  },
  {
   "cell_type": "code",
   "execution_count": 34,
   "metadata": {},
   "outputs": [
    {
     "data": {
      "image/png": "[encoded data removed]",
      "text/plain": [
       "<Figure size 576x432 with 1 Axes>"
      ]
     },
     "metadata": {
      "needs_background": "light"
     },
     "output_type": "display_data"
    }
   ],
   "source": [
    "# диаграмма рассеяния, связь продаж и оценок пользователей\n",
    "data_xone.plot(x='user_score', y='total_sales', kind='scatter', figsize=(8,6)) \n",
    "plt.show()"
   ]
  },
  {
   "cell_type": "code",
   "execution_count": 35,
   "metadata": {
    "scrolled": true
   },
   "outputs": [
    {
     "data": {
      "text/plain": [
       "-0.06892505328279412"
      ]
     },
     "execution_count": 35,
     "metadata": {},
     "output_type": "execute_result"
    }
   ],
   "source": [
    "data_xone['total_sales'].corr(data_xone['user_score'])"
   ]
  },
  {
   "cell_type": "markdown",
   "metadata": {},
   "source": [
    "На диаграмме рассеяния нет явно читающейся зависимости между оценками пользователей и продажами.\n",
    "\n",
    "Коэффициент корреляции Пирсона равен -0.06. Значение очень близкое к 0. Оно говорит об очень слабой отрицательной корреляции. Такая корреляция в расчет не берется."
   ]
  },
  {
   "cell_type": "code",
   "execution_count": 36,
   "metadata": {},
   "outputs": [
    {
     "data": {
      "image/png": "[encoded data removed]",
      "text/plain": [
       "<Figure size 576x432 with 1 Axes>"
      ]
     },
     "metadata": {
      "needs_background": "light"
     },
     "output_type": "display_data"
    }
   ],
   "source": [
    "# диаграмма рассеяния, связь продаж и оценок критиков\n",
    "data_xone.plot(x='critic_score', y='total_sales', kind='scatter', figsize=(8,6)) \n",
    "plt.show()"
   ]
  },
  {
   "cell_type": "code",
   "execution_count": 37,
   "metadata": {},
   "outputs": [
    {
     "data": {
      "text/plain": [
       "0.41699832800840186"
      ]
     },
     "execution_count": 37,
     "metadata": {},
     "output_type": "execute_result"
    }
   ],
   "source": [
    "data_xone['total_sales'].corr(data_xone['critic_score'])"
   ]
  },
  {
   "cell_type": "markdown",
   "metadata": {},
   "source": [
    "На диаграмме рассеяния присутствует увеличение объема продаж при росте оценки критиков для части данных.\n",
    "\n",
    "Коэффициент корреляции Пирсона равен 0.42. Такое значение говорит о слабой положительной корреляции. Однако это значение не так близко к 0, как в случае с отзывами пользователей. Нужно посмотреть на значение корреляции продаж и отзывов для всех игр, независимо от платформы."
   ]
  },
  {
   "cell_type": "markdown",
   "metadata": {},
   "source": [
    "**Анализ 3DS**"
   ]
  },
  {
   "cell_type": "code",
   "execution_count": 56,
   "metadata": {},
   "outputs": [],
   "source": [
    "data_3ds = data_actual.query('platform == \"3DS\"')"
   ]
  },
  {
   "cell_type": "code",
   "execution_count": 57,
   "metadata": {},
   "outputs": [
    {
     "data": {
      "image/png": "[encoded data removed]",
      "text/plain": [
       "<Figure size 576x432 with 1 Axes>"
      ]
     },
     "metadata": {
      "needs_background": "light"
     },
     "output_type": "display_data"
    }
   ],
   "source": [
    "# диаграмма рассеяния, связь продаж и оценок пользователей\n",
    "data_3ds.plot(x='user_score', y='total_sales', kind='scatter', figsize=(8,6)) \n",
    "plt.show()"
   ]
  },
  {
   "cell_type": "code",
   "execution_count": 58,
   "metadata": {
    "scrolled": true
   },
   "outputs": [
    {
     "data": {
      "text/plain": [
       "0.19758263411038599"
      ]
     },
     "execution_count": 58,
     "metadata": {},
     "output_type": "execute_result"
    }
   ],
   "source": [
    "data_3ds['total_sales'].corr(data_3ds['user_score'])"
   ]
  },
  {
   "cell_type": "markdown",
   "metadata": {},
   "source": [
    "На диаграмме рассеяния нет явно читающейся зависимости между оценками пользователей и продажами.\n",
    "\n",
    "Коэффициент корреляции Пирсона равен 0.2. Значение очень близкое к 0. Оно говорит о слабой положительной корреляции. Такая корреляция в расчет не берется."
   ]
  },
  {
   "cell_type": "code",
   "execution_count": 59,
   "metadata": {},
   "outputs": [
    {
     "data": {
      "image/png": "[encoded data removed]",
      "text/plain": [
       "<Figure size 576x432 with 1 Axes>"
      ]
     },
     "metadata": {
      "needs_background": "light"
     },
     "output_type": "display_data"
    }
   ],
   "source": [
    "# диаграмма рассеяния, связь продаж и оценок критиков\n",
    "data_3ds.plot(x='critic_score', y='total_sales', kind='scatter', figsize=(8,6)) \n",
    "plt.show()"
   ]
  },
  {
   "cell_type": "code",
   "execution_count": 60,
   "metadata": {},
   "outputs": [
    {
     "data": {
      "text/plain": [
       "0.32080286953607856"
      ]
     },
     "execution_count": 60,
     "metadata": {},
     "output_type": "execute_result"
    }
   ],
   "source": [
    "data_3ds['total_sales'].corr(data_3ds['critic_score'])"
   ]
  },
  {
   "cell_type": "markdown",
   "metadata": {},
   "source": [
    "На диаграмме рассеяния нет явно читающейся зависимости между оценками пользователей и продажами.\n",
    "\n",
    "Коэффициент корреляции Пирсона равен 0.32. Такое значение говорит о слабой положительной корреляции. Такая корреляция в расчет не берется."
   ]
  },
  {
   "cell_type": "markdown",
   "metadata": {},
   "source": [
    "**Анализ PC**"
   ]
  },
  {
   "cell_type": "code",
   "execution_count": 61,
   "metadata": {},
   "outputs": [],
   "source": [
    "data_pc = data_actual.query('platform == \"PC\"')"
   ]
  },
  {
   "cell_type": "code",
   "execution_count": 62,
   "metadata": {},
   "outputs": [
    {
     "data": {
      "image/png": "[encoded data removed]",
      "text/plain": [
       "<Figure size 576x432 with 1 Axes>"
      ]
     },
     "metadata": {
      "needs_background": "light"
     },
     "output_type": "display_data"
    }
   ],
   "source": [
    "# диаграмма рассеяния, связь продаж и оценок пользователей\n",
    "data_pc.plot(x='user_score', y='total_sales', kind='scatter', figsize=(8,6)) \n",
    "plt.show()"
   ]
  },
  {
   "cell_type": "code",
   "execution_count": 63,
   "metadata": {
    "scrolled": true
   },
   "outputs": [
    {
     "data": {
      "text/plain": [
       "-0.12186747630735577"
      ]
     },
     "execution_count": 63,
     "metadata": {},
     "output_type": "execute_result"
    }
   ],
   "source": [
    "data_pc['total_sales'].corr(data_pc['user_score'])"
   ]
  },
  {
   "cell_type": "markdown",
   "metadata": {},
   "source": [
    "На диаграмме рассеяния нет явно читающейся зависимости между оценками пользователей и продажами.\n",
    "\n",
    "Коэффициент корреляции Пирсона равен -0.12. Значение очень близкое к 0. Оно говорит об очень слабой отрицательной корреляции. Такая корреляция в расчет не берется."
   ]
  },
  {
   "cell_type": "code",
   "execution_count": 64,
   "metadata": {},
   "outputs": [
    {
     "data": {
      "image/png": "[encoded data removed]",
      "text/plain": [
       "<Figure size 576x432 with 1 Axes>"
      ]
     },
     "metadata": {
      "needs_background": "light"
     },
     "output_type": "display_data"
    }
   ],
   "source": [
    "# диаграмма рассеяния, связь продаж и оценок критиков\n",
    "data_pc.plot(x='critic_score', y='total_sales', kind='scatter', figsize=(8,6)) \n",
    "plt.show()"
   ]
  },
  {
   "cell_type": "code",
   "execution_count": 65,
   "metadata": {},
   "outputs": [
    {
     "data": {
      "text/plain": [
       "0.23724324311567926"
      ]
     },
     "execution_count": 65,
     "metadata": {},
     "output_type": "execute_result"
    }
   ],
   "source": [
    "data_pc['total_sales'].corr(data_pc['critic_score'])"
   ]
  },
  {
   "cell_type": "markdown",
   "metadata": {},
   "source": [
    "На диаграмме рассеяния нет явно читающейся зависимости между оценками пользователей и продажами.\n",
    "\n",
    "Коэффициент корреляции Пирсона равен 0.23. Такое значение говорит о слабой положительной корреляции. Такая корреляция в расчет не берется."
   ]
  },
  {
   "cell_type": "markdown",
   "metadata": {},
   "source": [
    "**После анализа корреляций продаж с отзывами пользователей и критиков для всех актуальных платформ можно сделать следующие выводы:**\n",
    "* Корреляций продаж с отзывами пользователей для одних платформ отрицательная (PS4, XOne и PC), а для других - положительная (3DS). Однако корреляция для всех платформ почти равна 0, а значит отклонения в ту или другую сторону в данном случае не так значимы: связь между продаж и отзывами пользователей отсутсвует.\n",
    "* Корреляций продаж с отзывами критиков для всех платформ положительная и колеблется от 0.2 до 0.4. Это говорит о слишком слабой связи между эти двумя параметрами, которую обычно не учитывают."
   ]
  },
  {
   "cell_type": "markdown",
   "metadata": {},
   "source": [
    "### Корреляция продаж с отзывами пользователей и критиков для всех платформ."
   ]
  },
  {
   "cell_type": "code",
   "execution_count": 38,
   "metadata": {},
   "outputs": [
    {
     "data": {
      "image/png": "[encoded data removed]",
      "text/plain": [
       "<Figure size 576x432 with 1 Axes>"
      ]
     },
     "metadata": {
      "needs_background": "light"
     },
     "output_type": "display_data"
    }
   ],
   "source": [
    "# диаграмма рассеяния, связь продаж и оценок пользователей\n",
    "data_actual.plot(x='user_score', y='total_sales', kind='scatter', figsize=(8,6)) \n",
    "plt.show()"
   ]
  },
  {
   "cell_type": "code",
   "execution_count": 39,
   "metadata": {},
   "outputs": [
    {
     "data": {
      "text/plain": [
       "0.004428817675493264"
      ]
     },
     "execution_count": 39,
     "metadata": {},
     "output_type": "execute_result"
    }
   ],
   "source": [
    "data_actual['total_sales'].corr(data_actual['user_score'])"
   ]
  },
  {
   "cell_type": "markdown",
   "metadata": {},
   "source": [
    "На диаграмме рассеяния нет явно читающейся зависимости между оценками пользователей и продажами.\n",
    "\n",
    "Коэффициент корреляции Пирсона равен 0.004. Значение очень близкое к 0. Оно говорит об очень слабой положительной корреляции. Такая корреляция в расчет не берется.\n",
    "\n",
    "При анализе корреляции для всех актуальных данных, независимо от платформы, коэффициент получился положительный, а для данных только по PS4 - отрицательный. Это можно объяснить тем, что корреляция и в том, и в другом случае почти равна 0, а значит отклонения в ту или другую сторону в данном случае не значимы."
   ]
  },
  {
   "cell_type": "code",
   "execution_count": 40,
   "metadata": {},
   "outputs": [
    {
     "data": {
      "image/png": "[encoded data removed]",
      "text/plain": [
       "<Figure size 576x432 with 1 Axes>"
      ]
     },
     "metadata": {
      "needs_background": "light"
     },
     "output_type": "display_data"
    }
   ],
   "source": [
    "# диаграмма рассеяния, связь продаж и оценок критиков\n",
    "data_actual.plot(x='critic_score', y='total_sales', kind='scatter', figsize=(8,6)) \n",
    "plt.show()"
   ]
  },
  {
   "cell_type": "code",
   "execution_count": 41,
   "metadata": {},
   "outputs": [
    {
     "data": {
      "text/plain": [
       "0.308196745920778"
      ]
     },
     "execution_count": 41,
     "metadata": {},
     "output_type": "execute_result"
    }
   ],
   "source": [
    "data_actual['total_sales'].corr(data_actual['critic_score'])"
   ]
  },
  {
   "cell_type": "markdown",
   "metadata": {},
   "source": [
    "На диаграмме рассеяния нет явно читающейся зависимости между оценками критиков и продажами.\n",
    "\n",
    "Коэффициент корреляции Пирсона равен 0.31. Такое значение говорит о слабой положительной корреляции.\n",
    "\n",
    "При анализе корреляции для всех актуальных данных, независимо от платформы, коэффициент получился еще ниже, чем при анализе данных только по PS4. Этот факт только больше подтверждает отсутствие зависимости между оценками критиков и продажами."
   ]
  },
  {
   "cell_type": "markdown",
   "metadata": {},
   "source": [
    "### Общее распределение игр по жанрам"
   ]
  },
  {
   "cell_type": "code",
   "execution_count": 72,
   "metadata": {
    "scrolled": false
   },
   "outputs": [
    {
     "data": {
      "image/png": "[encoded data removed]",
      "text/plain": [
       "<Figure size 576x432 with 1 Axes>"
      ]
     },
     "metadata": {
      "needs_background": "light"
     },
     "output_type": "display_data"
    }
   ],
   "source": [
    "data_actual.groupby('genre')['total_sales'].sum().plot(kind='bar', figsize=(8,6))\n",
    "plt.title(\"Распределение суммарных продаж по жанрам\")\n",
    "plt.xlabel(\"Жанр\")\n",
    "plt.ylabel(\"Продажи (млн. копий)\")\n",
    "plt.show()"
   ]
  },
  {
   "cell_type": "code",
   "execution_count": 71,
   "metadata": {},
   "outputs": [
    {
     "data": {
      "image/png": "[encoded data removed]",
      "text/plain": [
       "<Figure size 576x432 with 1 Axes>"
      ]
     },
     "metadata": {
      "needs_background": "light"
     },
     "output_type": "display_data"
    }
   ],
   "source": [
    "data_actual.groupby('genre')['total_sales'].mean().plot(kind='bar', figsize=(8,6))\n",
    "plt.title(\"Распределение средних значений продаж по жанрам\")\n",
    "plt.xlabel(\"Жанр\")\n",
    "plt.ylabel(\"Продажи (млн. копий)\")\n",
    "plt.show()"
   ]
  },
  {
   "cell_type": "markdown",
   "metadata": {},
   "source": [
    "**Из графика средних значений можно сделать следующие выводы:**\n",
    "* Самый прибыльный жанр - Shooter.\n",
    "* Топ-5 жанров с самыми высокими средними значениями продаж: Shooter, Platform, Sports, Role-Playing и Racing.\n",
    "* Самые низкие средние значения продаж у жанров Adventure и Puzzle."
   ]
  },
  {
   "cell_type": "markdown",
   "metadata": {},
   "source": [
    "## Портрет пользователя каждого региона"
   ]
  },
  {
   "cell_type": "markdown",
   "metadata": {},
   "source": [
    "### Пользователи из Северной Америки (NA)"
   ]
  },
  {
   "cell_type": "markdown",
   "metadata": {},
   "source": [
    "**Самые популярные платформы (топ-5)**"
   ]
  },
  {
   "cell_type": "code",
   "execution_count": 43,
   "metadata": {},
   "outputs": [
    {
     "data": {
      "text/html": [
       "<div>\n",
       "<style scoped>\n",
       "    .dataframe tbody tr th:only-of-type {\n",
       "        vertical-align: middle;\n",
       "    }\n",
       "\n",
       "    .dataframe tbody tr th {\n",
       "        vertical-align: top;\n",
       "    }\n",
       "\n",
       "    .dataframe thead th {\n",
       "        text-align: right;\n",
       "    }\n",
       "</style>\n",
       "<table border=\"1\" class=\"dataframe\">\n",
       "  <thead>\n",
       "    <tr style=\"text-align: right;\">\n",
       "      <th></th>\n",
       "      <th>na_sales</th>\n",
       "      <th>share</th>\n",
       "    </tr>\n",
       "    <tr>\n",
       "      <th>platform</th>\n",
       "      <th></th>\n",
       "      <th></th>\n",
       "    </tr>\n",
       "  </thead>\n",
       "  <tbody>\n",
       "    <tr>\n",
       "      <th>X360</th>\n",
       "      <td>140.05</td>\n",
       "      <td>23.70</td>\n",
       "    </tr>\n",
       "    <tr>\n",
       "      <th>PS4</th>\n",
       "      <td>108.74</td>\n",
       "      <td>18.40</td>\n",
       "    </tr>\n",
       "    <tr>\n",
       "      <th>PS3</th>\n",
       "      <td>103.38</td>\n",
       "      <td>17.49</td>\n",
       "    </tr>\n",
       "    <tr>\n",
       "      <th>XOne</th>\n",
       "      <td>93.12</td>\n",
       "      <td>15.76</td>\n",
       "    </tr>\n",
       "    <tr>\n",
       "      <th>3DS</th>\n",
       "      <td>55.31</td>\n",
       "      <td>9.36</td>\n",
       "    </tr>\n",
       "  </tbody>\n",
       "</table>\n",
       "</div>"
      ],
      "text/plain": [
       "          na_sales  share\n",
       "platform                 \n",
       "X360        140.05  23.70\n",
       "PS4         108.74  18.40\n",
       "PS3         103.38  17.49\n",
       "XOne         93.12  15.76\n",
       "3DS          55.31   9.36"
      ]
     },
     "execution_count": 43,
     "metadata": {},
     "output_type": "execute_result"
    }
   ],
   "source": [
    "# na_sales - суммарные продажи платформы в Северной Америке\n",
    "# share - доля продаж определенной платформы от всей суммы продаж в регионе по всем платформам (в процентах)\n",
    "na_total_sum = data_actual['na_sales'].sum()\n",
    "(data_actual.groupby('platform')['na_sales']\n",
    "            .agg([('na_sales', 'sum'), ('share', lambda na_sales: na_sales.sum() / na_total_sum * 100)])\n",
    "            .round(2)\n",
    "            .sort_values('na_sales', ascending=False)\n",
    "            .head()\n",
    ")"
   ]
  },
  {
   "cell_type": "markdown",
   "metadata": {},
   "source": [
    "**Топ-5 самых популярных платформа в Северной Америке:**\n",
    "1. X360 - около 24% всех продаж в регионе\n",
    "2. PS4\n",
    "3. PS3\n",
    "4. XOne\n",
    "5. 3DS - около 9% всех продаж в регионе\n",
    "\n",
    "Верхние строчки топа занимают консоли от Microsoft и Sony, однако X360 в Америке пока еще лидирует."
   ]
  },
  {
   "cell_type": "markdown",
   "metadata": {},
   "source": [
    "**Самые популярные жанры (топ-5)**"
   ]
  },
  {
   "cell_type": "code",
   "execution_count": 44,
   "metadata": {
    "scrolled": true
   },
   "outputs": [
    {
     "data": {
      "text/html": [
       "<div>\n",
       "<style scoped>\n",
       "    .dataframe tbody tr th:only-of-type {\n",
       "        vertical-align: middle;\n",
       "    }\n",
       "\n",
       "    .dataframe tbody tr th {\n",
       "        vertical-align: top;\n",
       "    }\n",
       "\n",
       "    .dataframe thead th {\n",
       "        text-align: right;\n",
       "    }\n",
       "</style>\n",
       "<table border=\"1\" class=\"dataframe\">\n",
       "  <thead>\n",
       "    <tr style=\"text-align: right;\">\n",
       "      <th></th>\n",
       "      <th>na_sales</th>\n",
       "      <th>share</th>\n",
       "    </tr>\n",
       "    <tr>\n",
       "      <th>genre</th>\n",
       "      <th></th>\n",
       "      <th></th>\n",
       "    </tr>\n",
       "  </thead>\n",
       "  <tbody>\n",
       "    <tr>\n",
       "      <th>Action</th>\n",
       "      <td>177.84</td>\n",
       "      <td>30.09</td>\n",
       "    </tr>\n",
       "    <tr>\n",
       "      <th>Shooter</th>\n",
       "      <td>144.77</td>\n",
       "      <td>24.50</td>\n",
       "    </tr>\n",
       "    <tr>\n",
       "      <th>Sports</th>\n",
       "      <td>81.53</td>\n",
       "      <td>13.80</td>\n",
       "    </tr>\n",
       "    <tr>\n",
       "      <th>Role-Playing</th>\n",
       "      <td>64.00</td>\n",
       "      <td>10.83</td>\n",
       "    </tr>\n",
       "    <tr>\n",
       "      <th>Misc</th>\n",
       "      <td>38.19</td>\n",
       "      <td>6.46</td>\n",
       "    </tr>\n",
       "  </tbody>\n",
       "</table>\n",
       "</div>"
      ],
      "text/plain": [
       "              na_sales  share\n",
       "genre                        \n",
       "Action          177.84  30.09\n",
       "Shooter         144.77  24.50\n",
       "Sports           81.53  13.80\n",
       "Role-Playing     64.00  10.83\n",
       "Misc             38.19   6.46"
      ]
     },
     "execution_count": 44,
     "metadata": {},
     "output_type": "execute_result"
    }
   ],
   "source": [
    "# na_sales - суммарные продажи жанра в Северной Америке\n",
    "# share - доля продаж определенного жанра от всей суммы продаж в регионе по всем платформам (в процентах)\n",
    "(data_actual.groupby('genre')['na_sales']\n",
    "            .agg([('na_sales', 'sum'), ('share', lambda na_sales: na_sales.sum() / na_total_sum * 100)])\n",
    "            .round(2)\n",
    "            .sort_values('na_sales', ascending=False)\n",
    "            .head()\n",
    ")"
   ]
  },
  {
   "cell_type": "markdown",
   "metadata": {},
   "source": [
    "**Топ-5 самых популярных жанров в Северной Америке:**\n",
    "1. Action - около 30% всех продаж в регионе\n",
    "2. Shooter\n",
    "3. Sports\n",
    "4. Role-Playing\n",
    "5. Misc - около 6% всех продаж в регионе\n",
    "\n",
    "Тенденции в жанрах в Северной Америке совпадают с теми тенденциями, которые мы видели при анализе общих продаж по всем регионам."
   ]
  },
  {
   "cell_type": "markdown",
   "metadata": {},
   "source": [
    "**Влияет ли рейтинг ESRB на продажи?**"
   ]
  },
  {
   "cell_type": "code",
   "execution_count": 45,
   "metadata": {},
   "outputs": [
    {
     "data": {
      "text/html": [
       "<div>\n",
       "<style scoped>\n",
       "    .dataframe tbody tr th:only-of-type {\n",
       "        vertical-align: middle;\n",
       "    }\n",
       "\n",
       "    .dataframe tbody tr th {\n",
       "        vertical-align: top;\n",
       "    }\n",
       "\n",
       "    .dataframe thead th {\n",
       "        text-align: right;\n",
       "    }\n",
       "</style>\n",
       "<table border=\"1\" class=\"dataframe\">\n",
       "  <thead>\n",
       "    <tr style=\"text-align: right;\">\n",
       "      <th></th>\n",
       "      <th>na_sales</th>\n",
       "      <th>mean_na_sales</th>\n",
       "      <th>count_games</th>\n",
       "    </tr>\n",
       "    <tr>\n",
       "      <th>rating</th>\n",
       "      <th></th>\n",
       "      <th></th>\n",
       "      <th></th>\n",
       "    </tr>\n",
       "  </thead>\n",
       "  <tbody>\n",
       "    <tr>\n",
       "      <th>M</th>\n",
       "      <td>231.57</td>\n",
       "      <td>0.46</td>\n",
       "      <td>498</td>\n",
       "    </tr>\n",
       "    <tr>\n",
       "      <th>E</th>\n",
       "      <td>114.37</td>\n",
       "      <td>0.29</td>\n",
       "      <td>395</td>\n",
       "    </tr>\n",
       "    <tr>\n",
       "      <th>E10+</th>\n",
       "      <td>75.70</td>\n",
       "      <td>0.25</td>\n",
       "      <td>306</td>\n",
       "    </tr>\n",
       "    <tr>\n",
       "      <th>T</th>\n",
       "      <td>66.02</td>\n",
       "      <td>0.16</td>\n",
       "      <td>412</td>\n",
       "    </tr>\n",
       "    <tr>\n",
       "      <th>unknown</th>\n",
       "      <td>103.31</td>\n",
       "      <td>0.08</td>\n",
       "      <td>1275</td>\n",
       "    </tr>\n",
       "  </tbody>\n",
       "</table>\n",
       "</div>"
      ],
      "text/plain": [
       "         na_sales  mean_na_sales  count_games\n",
       "rating                                       \n",
       "M          231.57           0.46          498\n",
       "E          114.37           0.29          395\n",
       "E10+        75.70           0.25          306\n",
       "T           66.02           0.16          412\n",
       "unknown    103.31           0.08         1275"
      ]
     },
     "execution_count": 45,
     "metadata": {},
     "output_type": "execute_result"
    }
   ],
   "source": [
    "(data_actual.groupby('rating')['na_sales']\n",
    "            .agg([('na_sales', 'sum'), ('mean_na_sales', 'mean'), ('count_games', 'count')])\n",
    "            .round(2)\n",
    "            .sort_values('mean_na_sales', ascending=False)\n",
    ")"
   ]
  },
  {
   "cell_type": "markdown",
   "metadata": {},
   "source": [
    "Можно сказать, что самое высокое среднее количество продаж в Северной Америке у рейтинга M, то есть \"взрослые\" игры продаются лучше. На втором месте по продажам рейтинг E, то есть игры для всех."
   ]
  },
  {
   "cell_type": "markdown",
   "metadata": {},
   "source": [
    "### Пользователи из Европы (EU)"
   ]
  },
  {
   "cell_type": "markdown",
   "metadata": {},
   "source": [
    "**Самые популярные платформы (топ-5)**"
   ]
  },
  {
   "cell_type": "code",
   "execution_count": 46,
   "metadata": {},
   "outputs": [
    {
     "data": {
      "text/html": [
       "<div>\n",
       "<style scoped>\n",
       "    .dataframe tbody tr th:only-of-type {\n",
       "        vertical-align: middle;\n",
       "    }\n",
       "\n",
       "    .dataframe tbody tr th {\n",
       "        vertical-align: top;\n",
       "    }\n",
       "\n",
       "    .dataframe thead th {\n",
       "        text-align: right;\n",
       "    }\n",
       "</style>\n",
       "<table border=\"1\" class=\"dataframe\">\n",
       "  <thead>\n",
       "    <tr style=\"text-align: right;\">\n",
       "      <th></th>\n",
       "      <th>eu_sales</th>\n",
       "      <th>share</th>\n",
       "    </tr>\n",
       "    <tr>\n",
       "      <th>platform</th>\n",
       "      <th></th>\n",
       "      <th></th>\n",
       "    </tr>\n",
       "  </thead>\n",
       "  <tbody>\n",
       "    <tr>\n",
       "      <th>PS4</th>\n",
       "      <td>141.09</td>\n",
       "      <td>27.84</td>\n",
       "    </tr>\n",
       "    <tr>\n",
       "      <th>PS3</th>\n",
       "      <td>106.86</td>\n",
       "      <td>21.08</td>\n",
       "    </tr>\n",
       "    <tr>\n",
       "      <th>X360</th>\n",
       "      <td>74.52</td>\n",
       "      <td>14.70</td>\n",
       "    </tr>\n",
       "    <tr>\n",
       "      <th>XOne</th>\n",
       "      <td>51.59</td>\n",
       "      <td>10.18</td>\n",
       "    </tr>\n",
       "    <tr>\n",
       "      <th>3DS</th>\n",
       "      <td>42.64</td>\n",
       "      <td>8.41</td>\n",
       "    </tr>\n",
       "  </tbody>\n",
       "</table>\n",
       "</div>"
      ],
      "text/plain": [
       "          eu_sales  share\n",
       "platform                 \n",
       "PS4         141.09  27.84\n",
       "PS3         106.86  21.08\n",
       "X360         74.52  14.70\n",
       "XOne         51.59  10.18\n",
       "3DS          42.64   8.41"
      ]
     },
     "execution_count": 46,
     "metadata": {},
     "output_type": "execute_result"
    }
   ],
   "source": [
    "# eu_sales - суммарные продажи платформы в Европе\n",
    "# share - доля продаж определенной платформы от всей суммы продаж в регионе по всем платформам (в процентах)\n",
    "eu_total_sum = data_actual['eu_sales'].sum()\n",
    "(data_actual.groupby('platform')['eu_sales']\n",
    "            .agg([('eu_sales', 'sum'), ('share', lambda eu_sales: eu_sales.sum() / eu_total_sum * 100)])\n",
    "            .round(2)\n",
    "            .sort_values('eu_sales', ascending=False)\n",
    "            .head()\n",
    ")"
   ]
  },
  {
   "cell_type": "markdown",
   "metadata": {},
   "source": [
    "**Топ-5 самых популярных платформа в Европе:**\n",
    "1. PS4 - около 28% всех продаж в регионе\n",
    "2. PS3\n",
    "3. X360\n",
    "4. XOne\n",
    "5. 3DS - около 8% всех продаж в регионе\n",
    "\n",
    "В Европе, в отличии от Америки, обе консоли от Sony обошли по продажам серию Xbox от Microsoft."
   ]
  },
  {
   "cell_type": "markdown",
   "metadata": {},
   "source": [
    "**Самые популярные жанры (топ-5)**"
   ]
  },
  {
   "cell_type": "code",
   "execution_count": 47,
   "metadata": {
    "scrolled": false
   },
   "outputs": [
    {
     "data": {
      "text/html": [
       "<div>\n",
       "<style scoped>\n",
       "    .dataframe tbody tr th:only-of-type {\n",
       "        vertical-align: middle;\n",
       "    }\n",
       "\n",
       "    .dataframe tbody tr th {\n",
       "        vertical-align: top;\n",
       "    }\n",
       "\n",
       "    .dataframe thead th {\n",
       "        text-align: right;\n",
       "    }\n",
       "</style>\n",
       "<table border=\"1\" class=\"dataframe\">\n",
       "  <thead>\n",
       "    <tr style=\"text-align: right;\">\n",
       "      <th></th>\n",
       "      <th>eu_sales</th>\n",
       "      <th>share</th>\n",
       "    </tr>\n",
       "    <tr>\n",
       "      <th>genre</th>\n",
       "      <th></th>\n",
       "      <th></th>\n",
       "    </tr>\n",
       "  </thead>\n",
       "  <tbody>\n",
       "    <tr>\n",
       "      <th>Action</th>\n",
       "      <td>159.34</td>\n",
       "      <td>31.44</td>\n",
       "    </tr>\n",
       "    <tr>\n",
       "      <th>Shooter</th>\n",
       "      <td>113.47</td>\n",
       "      <td>22.39</td>\n",
       "    </tr>\n",
       "    <tr>\n",
       "      <th>Sports</th>\n",
       "      <td>69.09</td>\n",
       "      <td>13.63</td>\n",
       "    </tr>\n",
       "    <tr>\n",
       "      <th>Role-Playing</th>\n",
       "      <td>48.53</td>\n",
       "      <td>9.58</td>\n",
       "    </tr>\n",
       "    <tr>\n",
       "      <th>Racing</th>\n",
       "      <td>27.29</td>\n",
       "      <td>5.38</td>\n",
       "    </tr>\n",
       "  </tbody>\n",
       "</table>\n",
       "</div>"
      ],
      "text/plain": [
       "              eu_sales  share\n",
       "genre                        \n",
       "Action          159.34  31.44\n",
       "Shooter         113.47  22.39\n",
       "Sports           69.09  13.63\n",
       "Role-Playing     48.53   9.58\n",
       "Racing           27.29   5.38"
      ]
     },
     "execution_count": 47,
     "metadata": {},
     "output_type": "execute_result"
    }
   ],
   "source": [
    "# eu_sales - суммарные продажи жанра в Европе\n",
    "# share - доля продаж определенного жанра от всей суммы продаж в регионе по всем платформам (в процентах)\n",
    "(data_actual.groupby('genre')['eu_sales']\n",
    "            .agg([('eu_sales', 'sum'), ('share', lambda eu_sales: eu_sales.sum() / eu_total_sum * 100)])\n",
    "            .round(2)\n",
    "            .sort_values('eu_sales', ascending=False)\n",
    "            .head()\n",
    ")"
   ]
  },
  {
   "cell_type": "markdown",
   "metadata": {},
   "source": [
    "**Топ-5 самых популярных жанров в Европе:**\n",
    "1. Action - около 31% всех продаж в регионе\n",
    "2. Shooter\n",
    "3. Sports\n",
    "4. Role-Playing\n",
    "5. Racing - около 5% всех продаж в регионе\n",
    "\n",
    "Тенденции в жанрах в Европе похожи на те, что есть в Северной Америке. Отличие лишь в том, что в Европе 5 место занимает жанр Racing."
   ]
  },
  {
   "cell_type": "markdown",
   "metadata": {},
   "source": [
    "**Влияет ли рейтинг ESRB на продажи?**"
   ]
  },
  {
   "cell_type": "code",
   "execution_count": 48,
   "metadata": {},
   "outputs": [
    {
     "data": {
      "text/html": [
       "<div>\n",
       "<style scoped>\n",
       "    .dataframe tbody tr th:only-of-type {\n",
       "        vertical-align: middle;\n",
       "    }\n",
       "\n",
       "    .dataframe tbody tr th {\n",
       "        vertical-align: top;\n",
       "    }\n",
       "\n",
       "    .dataframe thead th {\n",
       "        text-align: right;\n",
       "    }\n",
       "</style>\n",
       "<table border=\"1\" class=\"dataframe\">\n",
       "  <thead>\n",
       "    <tr style=\"text-align: right;\">\n",
       "      <th></th>\n",
       "      <th>eu_sales</th>\n",
       "      <th>mean_eu_sales</th>\n",
       "      <th>count_games</th>\n",
       "    </tr>\n",
       "    <tr>\n",
       "      <th>rating</th>\n",
       "      <th></th>\n",
       "      <th></th>\n",
       "      <th></th>\n",
       "    </tr>\n",
       "  </thead>\n",
       "  <tbody>\n",
       "    <tr>\n",
       "      <th>M</th>\n",
       "      <td>193.96</td>\n",
       "      <td>0.39</td>\n",
       "      <td>498</td>\n",
       "    </tr>\n",
       "    <tr>\n",
       "      <th>E</th>\n",
       "      <td>113.03</td>\n",
       "      <td>0.29</td>\n",
       "      <td>395</td>\n",
       "    </tr>\n",
       "    <tr>\n",
       "      <th>E10+</th>\n",
       "      <td>55.37</td>\n",
       "      <td>0.18</td>\n",
       "      <td>306</td>\n",
       "    </tr>\n",
       "    <tr>\n",
       "      <th>T</th>\n",
       "      <td>52.96</td>\n",
       "      <td>0.13</td>\n",
       "      <td>412</td>\n",
       "    </tr>\n",
       "    <tr>\n",
       "      <th>unknown</th>\n",
       "      <td>91.50</td>\n",
       "      <td>0.07</td>\n",
       "      <td>1275</td>\n",
       "    </tr>\n",
       "  </tbody>\n",
       "</table>\n",
       "</div>"
      ],
      "text/plain": [
       "         eu_sales  mean_eu_sales  count_games\n",
       "rating                                       \n",
       "M          193.96           0.39          498\n",
       "E          113.03           0.29          395\n",
       "E10+        55.37           0.18          306\n",
       "T           52.96           0.13          412\n",
       "unknown     91.50           0.07         1275"
      ]
     },
     "execution_count": 48,
     "metadata": {},
     "output_type": "execute_result"
    }
   ],
   "source": [
    "(data_actual.groupby('rating')['eu_sales']\n",
    "            .agg([('eu_sales', 'sum'), ('mean_eu_sales', 'mean'), ('count_games', 'count')])\n",
    "            .round(2)\n",
    "            .sort_values('mean_eu_sales', ascending=False)\n",
    ")"
   ]
  },
  {
   "cell_type": "markdown",
   "metadata": {},
   "source": [
    "Можно сказать, что в Европе, как и в Северной Америке, самое высокое среднее количество продаж у рейтинга M, то есть \"взрослые\" игры продаются лучше. На втором месте по продажам рейтинг E, то есть игры для всех."
   ]
  },
  {
   "cell_type": "markdown",
   "metadata": {},
   "source": [
    "### Пользователи из Японии (JP)"
   ]
  },
  {
   "cell_type": "markdown",
   "metadata": {},
   "source": [
    "**Самые популярные платформы (топ-5)**"
   ]
  },
  {
   "cell_type": "code",
   "execution_count": 49,
   "metadata": {},
   "outputs": [
    {
     "data": {
      "text/html": [
       "<div>\n",
       "<style scoped>\n",
       "    .dataframe tbody tr th:only-of-type {\n",
       "        vertical-align: middle;\n",
       "    }\n",
       "\n",
       "    .dataframe tbody tr th {\n",
       "        vertical-align: top;\n",
       "    }\n",
       "\n",
       "    .dataframe thead th {\n",
       "        text-align: right;\n",
       "    }\n",
       "</style>\n",
       "<table border=\"1\" class=\"dataframe\">\n",
       "  <thead>\n",
       "    <tr style=\"text-align: right;\">\n",
       "      <th></th>\n",
       "      <th>jp_sales</th>\n",
       "      <th>share</th>\n",
       "    </tr>\n",
       "    <tr>\n",
       "      <th>platform</th>\n",
       "      <th></th>\n",
       "      <th></th>\n",
       "    </tr>\n",
       "  </thead>\n",
       "  <tbody>\n",
       "    <tr>\n",
       "      <th>3DS</th>\n",
       "      <td>87.79</td>\n",
       "      <td>45.59</td>\n",
       "    </tr>\n",
       "    <tr>\n",
       "      <th>PS3</th>\n",
       "      <td>35.29</td>\n",
       "      <td>18.32</td>\n",
       "    </tr>\n",
       "    <tr>\n",
       "      <th>PSV</th>\n",
       "      <td>21.04</td>\n",
       "      <td>10.93</td>\n",
       "    </tr>\n",
       "    <tr>\n",
       "      <th>PS4</th>\n",
       "      <td>15.96</td>\n",
       "      <td>8.29</td>\n",
       "    </tr>\n",
       "    <tr>\n",
       "      <th>WiiU</th>\n",
       "      <td>13.01</td>\n",
       "      <td>6.76</td>\n",
       "    </tr>\n",
       "  </tbody>\n",
       "</table>\n",
       "</div>"
      ],
      "text/plain": [
       "          jp_sales  share\n",
       "platform                 \n",
       "3DS          87.79  45.59\n",
       "PS3          35.29  18.32\n",
       "PSV          21.04  10.93\n",
       "PS4          15.96   8.29\n",
       "WiiU         13.01   6.76"
      ]
     },
     "execution_count": 49,
     "metadata": {},
     "output_type": "execute_result"
    }
   ],
   "source": [
    "# jp_sales - суммарные продажи платформы в Японии\n",
    "# share - доля продаж определенной платформы от всей суммы продаж в регионе по всем платформам (в процентах)\n",
    "jp_total_sum = data_actual['jp_sales'].sum()\n",
    "(data_actual.groupby('platform')['jp_sales']\n",
    "            .agg([('jp_sales', 'sum'), ('share', lambda jp_sales: jp_sales.sum() / jp_total_sum * 100)])\n",
    "            .round(2)\n",
    "            .sort_values('jp_sales', ascending=False)\n",
    "            .head()\n",
    ")"
   ]
  },
  {
   "cell_type": "markdown",
   "metadata": {},
   "source": [
    "**Топ-5 самых популярных платформа в Европе:**\n",
    "1. 3DS - около 46% всех продаж в регионе\n",
    "2. PS3\n",
    "3. PSV\n",
    "4. PS4\n",
    "5. WiiU - около 7% всех продаж в регионе\n",
    "\n",
    "Японский рынок сильно отличается от европейского и американского. Большую популярность имеет 3DS - портативная консоль от Nintendo, японской компании."
   ]
  },
  {
   "cell_type": "markdown",
   "metadata": {},
   "source": [
    "**Самые популярные жанры (топ-5)**"
   ]
  },
  {
   "cell_type": "code",
   "execution_count": 50,
   "metadata": {
    "scrolled": false
   },
   "outputs": [
    {
     "data": {
      "text/html": [
       "<div>\n",
       "<style scoped>\n",
       "    .dataframe tbody tr th:only-of-type {\n",
       "        vertical-align: middle;\n",
       "    }\n",
       "\n",
       "    .dataframe tbody tr th {\n",
       "        vertical-align: top;\n",
       "    }\n",
       "\n",
       "    .dataframe thead th {\n",
       "        text-align: right;\n",
       "    }\n",
       "</style>\n",
       "<table border=\"1\" class=\"dataframe\">\n",
       "  <thead>\n",
       "    <tr style=\"text-align: right;\">\n",
       "      <th></th>\n",
       "      <th>jp_sales</th>\n",
       "      <th>share</th>\n",
       "    </tr>\n",
       "    <tr>\n",
       "      <th>genre</th>\n",
       "      <th></th>\n",
       "      <th></th>\n",
       "    </tr>\n",
       "  </thead>\n",
       "  <tbody>\n",
       "    <tr>\n",
       "      <th>Role-Playing</th>\n",
       "      <td>65.44</td>\n",
       "      <td>33.98</td>\n",
       "    </tr>\n",
       "    <tr>\n",
       "      <th>Action</th>\n",
       "      <td>52.80</td>\n",
       "      <td>27.42</td>\n",
       "    </tr>\n",
       "    <tr>\n",
       "      <th>Misc</th>\n",
       "      <td>12.86</td>\n",
       "      <td>6.68</td>\n",
       "    </tr>\n",
       "    <tr>\n",
       "      <th>Simulation</th>\n",
       "      <td>10.41</td>\n",
       "      <td>5.41</td>\n",
       "    </tr>\n",
       "    <tr>\n",
       "      <th>Fighting</th>\n",
       "      <td>9.44</td>\n",
       "      <td>4.90</td>\n",
       "    </tr>\n",
       "  </tbody>\n",
       "</table>\n",
       "</div>"
      ],
      "text/plain": [
       "              jp_sales  share\n",
       "genre                        \n",
       "Role-Playing     65.44  33.98\n",
       "Action           52.80  27.42\n",
       "Misc             12.86   6.68\n",
       "Simulation       10.41   5.41\n",
       "Fighting          9.44   4.90"
      ]
     },
     "execution_count": 50,
     "metadata": {},
     "output_type": "execute_result"
    }
   ],
   "source": [
    "# jp_sales - суммарные продажи жанра в Японии\n",
    "# share - доля продаж определенного жанра от всей суммы продаж в регионе по всем платформам (в процентах)\n",
    "(data_actual.groupby('genre')['jp_sales']\n",
    "            .agg([('jp_sales', 'sum'), ('share', lambda jp_sales: jp_sales.sum() / jp_total_sum * 100)])\n",
    "            .round(2)\n",
    "            .sort_values('jp_sales', ascending=False)\n",
    "            .head()\n",
    ")"
   ]
  },
  {
   "cell_type": "markdown",
   "metadata": {},
   "source": [
    "**Топ-5 самых популярных жанров в Европе:**\n",
    "1. Role-Playing - около 34% всех продаж в регионе\n",
    "2. Action\n",
    "3. Misc\n",
    "4. Simulation\n",
    "5. Fighting - около 5% всех продаж в регионе\n",
    "\n",
    "В плане жанров японский рынок также необычен. Большую популярность имеет Role-Playing, а также в топ попадают Simulation и Fighting, чего не было ни в Европе, ни в Северной Америке."
   ]
  },
  {
   "cell_type": "markdown",
   "metadata": {},
   "source": [
    "**Влияет ли рейтинг ESRB на продажи?**"
   ]
  },
  {
   "cell_type": "code",
   "execution_count": 51,
   "metadata": {},
   "outputs": [
    {
     "data": {
      "text/html": [
       "<div>\n",
       "<style scoped>\n",
       "    .dataframe tbody tr th:only-of-type {\n",
       "        vertical-align: middle;\n",
       "    }\n",
       "\n",
       "    .dataframe tbody tr th {\n",
       "        vertical-align: top;\n",
       "    }\n",
       "\n",
       "    .dataframe thead th {\n",
       "        text-align: right;\n",
       "    }\n",
       "</style>\n",
       "<table border=\"1\" class=\"dataframe\">\n",
       "  <thead>\n",
       "    <tr style=\"text-align: right;\">\n",
       "      <th></th>\n",
       "      <th>jp_sales</th>\n",
       "      <th>mean_jp_sales</th>\n",
       "      <th>count_games</th>\n",
       "    </tr>\n",
       "    <tr>\n",
       "      <th>rating</th>\n",
       "      <th></th>\n",
       "      <th></th>\n",
       "      <th></th>\n",
       "    </tr>\n",
       "  </thead>\n",
       "  <tbody>\n",
       "    <tr>\n",
       "      <th>unknown</th>\n",
       "      <td>108.84</td>\n",
       "      <td>0.09</td>\n",
       "      <td>1275</td>\n",
       "    </tr>\n",
       "    <tr>\n",
       "      <th>E</th>\n",
       "      <td>28.33</td>\n",
       "      <td>0.07</td>\n",
       "      <td>395</td>\n",
       "    </tr>\n",
       "    <tr>\n",
       "      <th>T</th>\n",
       "      <td>26.02</td>\n",
       "      <td>0.06</td>\n",
       "      <td>412</td>\n",
       "    </tr>\n",
       "    <tr>\n",
       "      <th>M</th>\n",
       "      <td>21.20</td>\n",
       "      <td>0.04</td>\n",
       "      <td>498</td>\n",
       "    </tr>\n",
       "    <tr>\n",
       "      <th>E10+</th>\n",
       "      <td>8.19</td>\n",
       "      <td>0.03</td>\n",
       "      <td>306</td>\n",
       "    </tr>\n",
       "  </tbody>\n",
       "</table>\n",
       "</div>"
      ],
      "text/plain": [
       "         jp_sales  mean_jp_sales  count_games\n",
       "rating                                       \n",
       "unknown    108.84           0.09         1275\n",
       "E           28.33           0.07          395\n",
       "T           26.02           0.06          412\n",
       "M           21.20           0.04          498\n",
       "E10+         8.19           0.03          306"
      ]
     },
     "execution_count": 51,
     "metadata": {},
     "output_type": "execute_result"
    }
   ],
   "source": [
    "(data_actual.groupby('rating')['jp_sales']\n",
    "            .agg([('jp_sales', 'sum'), ('mean_jp_sales', 'mean'), ('count_games', 'count')])\n",
    "            .round(2)\n",
    "            .sort_values('mean_jp_sales', ascending=False)\n",
    ")"
   ]
  },
  {
   "cell_type": "markdown",
   "metadata": {},
   "source": [
    "Можно сказать, что в Японии самое высокое среднее количество продаж у игр с неизвестным или неустановленным рейтингом. ESRB - это организация, которая определяет рейтинги для компьютерных видеоигр в США и Канаде. Возможно игры, которые популярны в Японии, выпускаются больше на локальный рынок, и потому они не имеют категории. \n",
    "\n",
    "На втором месте по продажам, как и в других регионах, рейтинг E, то есть игры для всех."
   ]
  },
  {
   "cell_type": "markdown",
   "metadata": {},
   "source": [
    "## Проверка статистических гипотез"
   ]
  },
  {
   "cell_type": "markdown",
   "metadata": {},
   "source": [
    "### Средние пользовательские рейтинги платформ Xbox One и PC одинаковые"
   ]
  },
  {
   "cell_type": "markdown",
   "metadata": {},
   "source": [
    "**Нулевая гипотеза:** Средние пользовательские рейтинги платформ Xbox One и PC одинаковые.\n",
    "\n",
    "**Альтернативная гипотеза:** Средние пользовательские рейтинги платформ Xbox One и PC разные."
   ]
  },
  {
   "cell_type": "code",
   "execution_count": 52,
   "metadata": {},
   "outputs": [],
   "source": [
    "xone_user_score = data_actual.query('platform == \"XOne\"')['user_score'].dropna()\n",
    "pc_user_score = data_actual.query('platform == \"PC\"')['user_score'].dropna()\n",
    "alpha = .01"
   ]
  },
  {
   "cell_type": "code",
   "execution_count": 53,
   "metadata": {
    "scrolled": true
   },
   "outputs": [
    {
     "name": "stdout",
     "output_type": "stream",
     "text": [
      "p-значение: 0.5489537965134912\n",
      "Не получилось отвергнуть нулевую гипотезу\n"
     ]
    }
   ],
   "source": [
    "results = st.ttest_ind(xone_user_score, pc_user_score, equal_var = False)\n",
    "\n",
    "print('p-значение:', results.pvalue)\n",
    "\n",
    "if results.pvalue < alpha:\n",
    "    print(\"Отвергаем нулевую гипотезу\")\n",
    "else:\n",
    "    print(\"Не получилось отвергнуть нулевую гипотезу\") "
   ]
  },
  {
   "cell_type": "markdown",
   "metadata": {},
   "source": [
    "В данном случае применяем t-test для проверки гипотезы о равенстве среднего двух независимых генеральных совокупностей. Гипотеза двусторонняя, уровнем значимости возьмем равный 0.01. Параметр equal_var указываем False, так как выборки имеют разный объем. \n",
    "\n",
    "По результатам теста нулевая гипотеза не может быть отвергнута, соответственно, можно сказать, что **средние пользовательские рейтинги платформ Xbox One и PC одинаковые**. "
   ]
  },
  {
   "cell_type": "markdown",
   "metadata": {},
   "source": [
    "### Средние пользовательские рейтинги жанров Action (англ. «действие», экшен-игры) и Sports (англ. «спортивные соревнования») разные."
   ]
  },
  {
   "cell_type": "markdown",
   "metadata": {},
   "source": [
    "**Нулевая гипотеза:** Средние пользовательские рейтинги жанров Action и Sports одинаковые.\n",
    "\n",
    "**Альтернативная гипотеза:** Средние пользовательские рейтинги жанров Action и Sports разные."
   ]
  },
  {
   "cell_type": "code",
   "execution_count": 54,
   "metadata": {},
   "outputs": [],
   "source": [
    "action_user_score = data_actual.query('genre == \"Action\"')['user_score'].dropna()\n",
    "sports_user_score = data_actual.query('genre == \"Sports\"')['user_score'].dropna()\n",
    "alpha = .01"
   ]
  },
  {
   "cell_type": "code",
   "execution_count": 55,
   "metadata": {
    "scrolled": true
   },
   "outputs": [
    {
     "name": "stdout",
     "output_type": "stream",
     "text": [
      "p-значение: 4.24307776572644e-20\n",
      "Отвергаем нулевую гипотезу\n"
     ]
    }
   ],
   "source": [
    "results = st.ttest_ind(action_user_score, sports_user_score, equal_var = False)\n",
    "\n",
    "print('p-значение:', results.pvalue)\n",
    "\n",
    "if results.pvalue < alpha:\n",
    "    print(\"Отвергаем нулевую гипотезу\")\n",
    "else:\n",
    "    print(\"Не получилось отвергнуть нулевую гипотезу\") "
   ]
  },
  {
   "cell_type": "markdown",
   "metadata": {},
   "source": [
    "В данном случае применяем t-test для проверки гипотезы о равенстве среднего двух независимых генеральных совокупностей. Гипотеза двусторонняя, уровнем значимости возьмем равный 0.01. Параметр equal_var указываем False, так как выборки имеют разный объем. \n",
    "\n",
    "По результатам теста мы отвергаем нулевую гипотезу, соответственно, можно сказать, что **средние пользовательские рейтинги жанров Action и Sports разные**. "
   ]
  },
  {
   "cell_type": "markdown",
   "metadata": {},
   "source": [
    "## Общий вывод"
   ]
  },
  {
   "cell_type": "markdown",
   "metadata": {},
   "source": [
    "**Из всего анализа в целом можно сделать следующие выводы:**\n",
    "1. Характерный период от взлета продаж до начала их падения для игровых платформ составляет примерно 5 лет. Поэтому для планирования кампании на 2017-й мы анализируем данные с 2012 года включительно.\n",
    "2. Потенциально прибыльные платформы на 2017 год являются: PS4, XOne, 3DS и PC.\n",
    "3. Больше всего хитовых по продажам игр, у 2 предыдущих лидеров рынка PS3 и X360, а также у нынешних лидеров PS4, XOne и 3DS.\n",
    "4. Отзывы пользователей и критиков не влияют на продажи игр.\n",
    "5. Топ-5 жанров с самыми высокими продажами: Action, Shooter, Role-Playing, Sports, Misc.\n",
    "6. Портреты пользователей Северной Америки и Европы очень похожи: эти пользователи предпочитают одни и те же платформы и жанры. Самые популярные платформы X360 и PS4, а жанр - Action.\n",
    "7. Японский рынок сильно отличается от европейского и американского. Пользователи из Японии предпочитают платформу 3DS и жанр Role-Playing.\n",
    "8. В среднем в Америке и Европе больше покупают игры с рейтингами M и E. В Японии часто покупают игры с неизвестным или неустановленным рейтингом.\n",
    "9. Проверка статистических гипотез показала, что:\n",
    "    - средние пользовательские рейтинги платформ Xbox One и PC одинаковые;\n",
    "    - средние пользовательские рейтинги жанров Action и Sports разные."
   ]
  }
 ],
 "metadata": {
  "ExecuteTimeLog": [
   {
    "duration": 1119,
    "start_time": "2022-09-25T18:37:16.264Z"
   },
   {
    "duration": 46,
    "start_time": "2022-09-25T18:37:17.386Z"
   },
   {
    "duration": 13,
    "start_time": "2022-09-25T18:37:17.433Z"
   },
   {
    "duration": 13,
    "start_time": "2022-09-25T18:37:17.448Z"
   },
   {
    "duration": 3,
    "start_time": "2022-09-25T18:37:17.463Z"
   },
   {
    "duration": 18,
    "start_time": "2022-09-25T18:37:17.468Z"
   },
   {
    "duration": 12,
    "start_time": "2022-09-25T18:37:17.487Z"
   },
   {
    "duration": 24,
    "start_time": "2022-09-25T18:37:17.501Z"
   },
   {
    "duration": 133,
    "start_time": "2022-09-25T18:37:17.526Z"
   },
   {
    "duration": 953,
    "start_time": "2022-09-25T18:37:17.663Z"
   },
   {
    "duration": 0,
    "start_time": "2022-09-25T18:37:18.620Z"
   },
   {
    "duration": 0,
    "start_time": "2022-09-25T18:37:18.621Z"
   },
   {
    "duration": 0,
    "start_time": "2022-09-25T18:37:18.622Z"
   },
   {
    "duration": 0,
    "start_time": "2022-09-25T18:37:18.623Z"
   },
   {
    "duration": 0,
    "start_time": "2022-09-25T18:37:18.624Z"
   },
   {
    "duration": 0,
    "start_time": "2022-09-25T18:37:18.625Z"
   },
   {
    "duration": 0,
    "start_time": "2022-09-25T18:37:18.626Z"
   },
   {
    "duration": 0,
    "start_time": "2022-09-25T18:37:18.627Z"
   },
   {
    "duration": 0,
    "start_time": "2022-09-25T18:37:18.628Z"
   },
   {
    "duration": 0,
    "start_time": "2022-09-25T18:37:18.629Z"
   },
   {
    "duration": 0,
    "start_time": "2022-09-25T18:37:18.630Z"
   },
   {
    "duration": 0,
    "start_time": "2022-09-25T18:37:18.632Z"
   },
   {
    "duration": 0,
    "start_time": "2022-09-25T18:37:18.633Z"
   },
   {
    "duration": 0,
    "start_time": "2022-09-25T18:37:18.634Z"
   },
   {
    "duration": 0,
    "start_time": "2022-09-25T18:37:18.635Z"
   },
   {
    "duration": 0,
    "start_time": "2022-09-25T18:37:18.636Z"
   },
   {
    "duration": 0,
    "start_time": "2022-09-25T18:37:18.637Z"
   },
   {
    "duration": 0,
    "start_time": "2022-09-25T18:37:18.638Z"
   },
   {
    "duration": 0,
    "start_time": "2022-09-25T18:37:18.639Z"
   },
   {
    "duration": 0,
    "start_time": "2022-09-25T18:37:18.640Z"
   },
   {
    "duration": 0,
    "start_time": "2022-09-25T18:37:18.641Z"
   },
   {
    "duration": 0,
    "start_time": "2022-09-25T18:37:18.642Z"
   },
   {
    "duration": 0,
    "start_time": "2022-09-25T18:37:18.643Z"
   },
   {
    "duration": 0,
    "start_time": "2022-09-25T18:37:18.644Z"
   },
   {
    "duration": 0,
    "start_time": "2022-09-25T18:37:18.646Z"
   },
   {
    "duration": 0,
    "start_time": "2022-09-25T18:37:18.647Z"
   },
   {
    "duration": 0,
    "start_time": "2022-09-25T18:37:18.647Z"
   },
   {
    "duration": 0,
    "start_time": "2022-09-25T18:37:18.649Z"
   },
   {
    "duration": 0,
    "start_time": "2022-09-25T18:37:18.650Z"
   },
   {
    "duration": 0,
    "start_time": "2022-09-25T18:37:18.651Z"
   },
   {
    "duration": 0,
    "start_time": "2022-09-25T18:37:18.652Z"
   },
   {
    "duration": 0,
    "start_time": "2022-09-25T18:37:18.653Z"
   },
   {
    "duration": 0,
    "start_time": "2022-09-25T18:37:18.654Z"
   },
   {
    "duration": 0,
    "start_time": "2022-09-25T18:37:18.655Z"
   },
   {
    "duration": 0,
    "start_time": "2022-09-25T18:37:18.656Z"
   },
   {
    "duration": 0,
    "start_time": "2022-09-25T18:37:18.657Z"
   },
   {
    "duration": 0,
    "start_time": "2022-09-25T18:37:18.658Z"
   },
   {
    "duration": 0,
    "start_time": "2022-09-25T18:37:18.659Z"
   },
   {
    "duration": 0,
    "start_time": "2022-09-25T18:37:18.660Z"
   },
   {
    "duration": 0,
    "start_time": "2022-09-25T18:37:18.721Z"
   },
   {
    "duration": 10,
    "start_time": "2022-09-25T18:38:11.311Z"
   },
   {
    "duration": 51,
    "start_time": "2022-09-25T18:43:23.980Z"
   },
   {
    "duration": 14,
    "start_time": "2022-09-25T18:43:25.879Z"
   },
   {
    "duration": 16,
    "start_time": "2022-09-25T18:43:28.586Z"
   },
   {
    "duration": 1161,
    "start_time": "2022-09-25T18:43:42.625Z"
   },
   {
    "duration": 56,
    "start_time": "2022-09-25T18:43:43.788Z"
   },
   {
    "duration": 19,
    "start_time": "2022-09-25T18:43:43.846Z"
   },
   {
    "duration": 20,
    "start_time": "2022-09-25T18:43:43.867Z"
   },
   {
    "duration": 3,
    "start_time": "2022-09-25T18:43:43.889Z"
   },
   {
    "duration": 36,
    "start_time": "2022-09-25T18:43:43.894Z"
   },
   {
    "duration": 9,
    "start_time": "2022-09-25T18:43:43.932Z"
   },
   {
    "duration": 5,
    "start_time": "2022-09-25T18:43:43.943Z"
   },
   {
    "duration": 179,
    "start_time": "2022-09-25T18:43:43.950Z"
   },
   {
    "duration": 5,
    "start_time": "2022-09-25T18:43:44.132Z"
   },
   {
    "duration": 17,
    "start_time": "2022-09-25T18:43:44.139Z"
   },
   {
    "duration": 14,
    "start_time": "2022-09-25T18:43:44.158Z"
   },
   {
    "duration": 4,
    "start_time": "2022-09-25T18:43:44.174Z"
   },
   {
    "duration": 11,
    "start_time": "2022-09-25T18:43:44.180Z"
   },
   {
    "duration": 38,
    "start_time": "2022-09-25T18:43:44.192Z"
   },
   {
    "duration": 5,
    "start_time": "2022-09-25T18:43:44.231Z"
   },
   {
    "duration": 18,
    "start_time": "2022-09-25T18:43:44.238Z"
   },
   {
    "duration": 220,
    "start_time": "2022-09-25T18:43:44.258Z"
   },
   {
    "duration": 8,
    "start_time": "2022-09-25T18:43:44.480Z"
   },
   {
    "duration": 12,
    "start_time": "2022-09-25T18:43:44.490Z"
   },
   {
    "duration": 267,
    "start_time": "2022-09-25T18:43:44.504Z"
   },
   {
    "duration": 6,
    "start_time": "2022-09-25T18:43:44.773Z"
   },
   {
    "duration": 13,
    "start_time": "2022-09-25T18:43:44.780Z"
   },
   {
    "duration": 29,
    "start_time": "2022-09-25T18:43:44.794Z"
   },
   {
    "duration": 351,
    "start_time": "2022-09-25T18:43:44.825Z"
   },
   {
    "duration": 256,
    "start_time": "2022-09-25T18:43:45.178Z"
   },
   {
    "duration": 304,
    "start_time": "2022-09-25T18:43:45.436Z"
   },
   {
    "duration": 5,
    "start_time": "2022-09-25T18:43:45.744Z"
   },
   {
    "duration": 237,
    "start_time": "2022-09-25T18:43:45.750Z"
   },
   {
    "duration": 5,
    "start_time": "2022-09-25T18:43:45.989Z"
   },
   {
    "duration": 168,
    "start_time": "2022-09-25T18:43:45.995Z"
   },
   {
    "duration": 5,
    "start_time": "2022-09-25T18:43:46.165Z"
   },
   {
    "duration": 150,
    "start_time": "2022-09-25T18:43:46.171Z"
   },
   {
    "duration": 6,
    "start_time": "2022-09-25T18:43:46.323Z"
   },
   {
    "duration": 148,
    "start_time": "2022-09-25T18:43:46.331Z"
   },
   {
    "duration": 6,
    "start_time": "2022-09-25T18:43:46.481Z"
   },
   {
    "duration": 184,
    "start_time": "2022-09-25T18:43:46.489Z"
   },
   {
    "duration": 16,
    "start_time": "2022-09-25T18:43:46.675Z"
   },
   {
    "duration": 29,
    "start_time": "2022-09-25T18:43:46.693Z"
   },
   {
    "duration": 14,
    "start_time": "2022-09-25T18:43:46.723Z"
   },
   {
    "duration": 16,
    "start_time": "2022-09-25T18:43:46.738Z"
   },
   {
    "duration": 16,
    "start_time": "2022-09-25T18:43:46.756Z"
   },
   {
    "duration": 14,
    "start_time": "2022-09-25T18:43:46.774Z"
   },
   {
    "duration": 15,
    "start_time": "2022-09-25T18:43:46.821Z"
   },
   {
    "duration": 14,
    "start_time": "2022-09-25T18:43:46.838Z"
   },
   {
    "duration": 17,
    "start_time": "2022-09-25T18:43:46.854Z"
   },
   {
    "duration": 9,
    "start_time": "2022-09-25T18:43:46.873Z"
   },
   {
    "duration": 8,
    "start_time": "2022-09-25T18:43:46.883Z"
   },
   {
    "duration": 9,
    "start_time": "2022-09-25T18:43:46.922Z"
   },
   {
    "duration": 19,
    "start_time": "2022-09-25T18:43:46.933Z"
   }
  ],
  "kernelspec": {
   "display_name": "Python 3 (ipykernel)",
   "language": "python",
   "name": "python3"
  },
  "language_info": {
   "codemirror_mode": {
    "name": "ipython",
    "version": 3
   },
   "file_extension": ".py",
   "mimetype": "text/x-python",
   "name": "python",
   "nbconvert_exporter": "python",
   "pygments_lexer": "ipython3",
   "version": "3.9.12"
  },
  "toc": {
   "base_numbering": 1,
   "nav_menu": {},
   "number_sections": true,
   "sideBar": true,
   "skip_h1_title": true,
   "title_cell": "Table of Contents",
   "title_sidebar": "Contents",
   "toc_cell": false,
   "toc_position": {},
   "toc_section_display": true,
   "toc_window_display": false
  }
 },
 "nbformat": 4,
 "nbformat_minor": 2
}
